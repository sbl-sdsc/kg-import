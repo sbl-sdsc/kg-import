{
 "cells": [
  {
   "cell_type": "markdown",
   "id": "1e6a6b7a-329f-4f8c-96aa-87f0eb59d1d9",
   "metadata": {},
   "source": [
    "# Cypher Query Examples"
   ]
  },
  {
   "cell_type": "code",
   "execution_count": null,
   "id": "f5670553-4d90-47ff-a277-adca5684ea7a",
   "metadata": {},
   "outputs": [],
   "source": [
    "#@title Check if Notebook is running in Google Colab\n",
    "in_colab = False\n",
    "try:\n",
    "    import google.colab\n",
    "    # enable third party widgets in Colab\n",
    "    from google.colab import output\n",
    "    output.enable_custom_widget_manager()\n",
    "    in_colab = True\n",
    "except:\n",
    "    pass"
   ]
  },
  {
   "cell_type": "code",
   "execution_count": null,
   "id": "fc8051ba-0597-484b-b7f7-83c2d935b34f",
   "metadata": {},
   "outputs": [],
   "source": [
    "#@title Install software (Google Colab only)\n",
    "if in_colab:\n",
    "    !apt -qq install openjdk-17-jre-headless\n",
    "    !wget -q https://raw.githubusercontent.com/pwrose/neo4j-ipycytoscape/master/notebooks/neo4j_utils.py\n",
    "    !wget -q https://raw.githubusercontent.com/pwrose/kg-import/master/notebooks/neo4j_bulk_importer.py\n",
    "    !wget -q https://raw.githubusercontent.com/pwrose/neo4j-ipycytoscape/master/.env.colab\n",
    "    %pip install -q python-dotenv\n",
    "    from dotenv import load_dotenv\n",
    "    load_dotenv(\".env.colab\")\n",
    "    %pip install py2neo --quiet\n",
    "    %pip install ipycytoscape --quiet"
   ]
  },
  {
   "cell_type": "code",
   "execution_count": null,
   "id": "08c31e38-cb94-422d-b6e0-9ad7b351df87",
   "metadata": {},
   "outputs": [],
   "source": [
    "import neo4j_utils"
   ]
  },
  {
   "cell_type": "code",
   "execution_count": null,
   "id": "5a995db5-fcea-4137-8847-565895d75e19",
   "metadata": {},
   "outputs": [],
   "source": [
    "neo4j_utils.start()"
   ]
  },
  {
   "cell_type": "code",
   "execution_count": null,
   "id": "8f99402a-e8c1-4824-8a64-75ab36184ede",
   "metadata": {},
   "outputs": [],
   "source": [
    "import neo4j_blulk_importer"
   ]
  },
  {
   "cell_type": "code",
   "execution_count": null,
   "id": "7d3388a0-fbbf-4746-b5c6-08ae74070d27",
   "metadata": {},
   "outputs": [],
   "source": [
    "neo4j_blulk_importer.create_kg()"
   ]
  },
  {
   "cell_type": "code",
   "execution_count": null,
   "id": "e5c78abc-09bc-4247-8e8a-ede5e8492bf5",
   "metadata": {},
   "outputs": [],
   "source": [
    "neo4j_utils.stop()"
   ]
  },
  {
   "cell_type": "code",
   "execution_count": 1,
   "id": "bf0650d6-9ed8-40f2-a7aa-1e64f4223b36",
   "metadata": {},
   "outputs": [],
   "source": [
    "import os\n",
    "import pandas as pd\n",
    "from py2neo import Graph\n",
    "import neo4j_utils"
   ]
  },
  {
   "cell_type": "code",
   "execution_count": 2,
   "id": "af89999e-2ab0-4062-b956-24b591d22f64",
   "metadata": {},
   "outputs": [],
   "source": [
    "pd.set_option('display.max_colwidth', None)"
   ]
  },
  {
   "cell_type": "markdown",
   "id": "c3bc4783-38ff-47af-ab21-6a90eb3343ff",
   "metadata": {},
   "source": [
    "### Connect to local Neo4j Graph database"
   ]
  },
  {
   "cell_type": "code",
   "execution_count": 3,
   "id": "69ba5595-f16f-4a7c-8112-788d03d244db",
   "metadata": {},
   "outputs": [],
   "source": [
    "DEMO_SERVER_URL = os.getenv(\"DEMO_SERVER_URL\")\n",
    "DEMO_SERVER_UN = os.getenv(\"DEMO_SERVER_UN\")\n",
    "DEMO_SERVER_PW = os.getenv(\"DEMO_SERVER_PW\")\n",
    "graph = Graph(DEMO_SERVER_URL, user=DEMO_SERVER_UN, password=DEMO_SERVER_PW)"
   ]
  },
  {
   "cell_type": "code",
   "execution_count": 4,
   "id": "37928585-7936-4e25-9108-eb33f73a512d",
   "metadata": {},
   "outputs": [],
   "source": [
    "#graph = Graph(\"bolt://localhost:7687\", name=\"neo4j\", user=\"neo4j\", password=\"neo4jdemo\")"
   ]
  },
  {
   "cell_type": "markdown",
   "id": "3e53d63e-0477-4cc0-8594-caf9a446568f",
   "metadata": {},
   "source": [
    "### Display Node metadata"
   ]
  },
  {
   "cell_type": "code",
   "execution_count": 5,
   "id": "6f5d1ac1-1e9c-440c-92fe-27b07266dd2e",
   "metadata": {},
   "outputs": [
    {
     "data": {
      "text/html": [
       "<div>\n",
       "<style scoped>\n",
       "    .dataframe tbody tr th:only-of-type {\n",
       "        vertical-align: middle;\n",
       "    }\n",
       "\n",
       "    .dataframe tbody tr th {\n",
       "        vertical-align: top;\n",
       "    }\n",
       "\n",
       "    .dataframe thead th {\n",
       "        text-align: right;\n",
       "    }\n",
       "</style>\n",
       "<table border=\"1\" class=\"dataframe\">\n",
       "  <thead>\n",
       "    <tr style=\"text-align: right;\">\n",
       "      <th></th>\n",
       "      <th>n</th>\n",
       "    </tr>\n",
       "  </thead>\n",
       "  <tbody>\n",
       "    <tr>\n",
       "      <th>0</th>\n",
       "      <td>{'nodeName': 'State', 'synonyms': 'Alternate names of state (string[])', 'name': 'Name of state (string)', 'location': 'Latitude and longitude in WGS-84 format (point{crs:WGS-84})', 'id': 'Geonames.org id for location (string)', 'population': 'Population (int)'}</td>\n",
       "    </tr>\n",
       "    <tr>\n",
       "      <th>1</th>\n",
       "      <td>{'nodeName': 'City', 'synonyms': 'Alternate names of city (string[])', 'name': 'Name of city (string)', 'location': 'Latitude and longitude in WGS-84 format (point{crs:WGS-84})', 'id': 'Geonames.org id for location (string)', 'population': 'Population (int)'}</td>\n",
       "    </tr>\n",
       "    <tr>\n",
       "      <th>2</th>\n",
       "      <td>{'nodeName': 'Symptom', 'name': 'Name of symptom (string)', 'id': 'Symptom id from Symptom Ontology (string)'}</td>\n",
       "    </tr>\n",
       "    <tr>\n",
       "      <th>3</th>\n",
       "      <td>{'nodeName': 'Patient', 'firstName': 'First name (string)', 'lastName': 'Last name (string)', 'smoker': 'Patient is a smoker (boolean)', 'sex': 'Biological sex (string)', 'id': 'Unique patient id (string)', 'age': 'Age (int)'}</td>\n",
       "    </tr>\n",
       "    <tr>\n",
       "      <th>4</th>\n",
       "      <td>{'nodeName': 'Disease', 'name': 'Name of disease from Human Disease Ontology (string)', 'id': 'Disease id from Human Disease Ontology (string)'}</td>\n",
       "    </tr>\n",
       "  </tbody>\n",
       "</table>\n",
       "</div>"
      ],
      "text/plain": [
       "                                                                                                                                                                                                                                                                        n\n",
       "0  {'nodeName': 'State', 'synonyms': 'Alternate names of state (string[])', 'name': 'Name of state (string)', 'location': 'Latitude and longitude in WGS-84 format (point{crs:WGS-84})', 'id': 'Geonames.org id for location (string)', 'population': 'Population (int)'}\n",
       "1     {'nodeName': 'City', 'synonyms': 'Alternate names of city (string[])', 'name': 'Name of city (string)', 'location': 'Latitude and longitude in WGS-84 format (point{crs:WGS-84})', 'id': 'Geonames.org id for location (string)', 'population': 'Population (int)'}\n",
       "2                                                                                                                                                          {'nodeName': 'Symptom', 'name': 'Name of symptom (string)', 'id': 'Symptom id from Symptom Ontology (string)'}\n",
       "3                                      {'nodeName': 'Patient', 'firstName': 'First name (string)', 'lastName': 'Last name (string)', 'smoker': 'Patient is a smoker (boolean)', 'sex': 'Biological sex (string)', 'id': 'Unique patient id (string)', 'age': 'Age (int)'}\n",
       "4                                                                                                                        {'nodeName': 'Disease', 'name': 'Name of disease from Human Disease Ontology (string)', 'id': 'Disease id from Human Disease Ontology (string)'}"
      ]
     },
     "execution_count": 5,
     "metadata": {},
     "output_type": "execute_result"
    }
   ],
   "source": [
    "query = \"\"\"\n",
    "MATCH (n:MetaNode) RETURN n;\n",
    "\"\"\"\n",
    "graph.run(query).to_data_frame()"
   ]
  },
  {
   "cell_type": "markdown",
   "id": "13eca098-2fd5-4c4a-8533-489dd5a9e0cc",
   "metadata": {},
   "source": [
    "### Get number of Nodes"
   ]
  },
  {
   "cell_type": "code",
   "execution_count": 6,
   "id": "787283c7-114f-495f-ac74-ebd115e07f06",
   "metadata": {},
   "outputs": [
    {
     "name": "stdout",
     "output_type": "stream",
     "text": [
      "Total number of nodes: 19\n"
     ]
    }
   ],
   "source": [
    "query = \"\"\"\n",
    "MATCH (n)\n",
    "RETURN COUNT(n);\n",
    "\"\"\"\n",
    "n = graph.evaluate(query)\n",
    "print(f'Total number of nodes: {n}')"
   ]
  },
  {
   "cell_type": "markdown",
   "id": "dc48a488-1987-4310-aa7f-020aa29810b9",
   "metadata": {},
   "source": [
    "### Get number of nodes by node label"
   ]
  },
  {
   "cell_type": "code",
   "execution_count": 7,
   "id": "5b928985-9122-49f6-bd2c-ffb890dece42",
   "metadata": {},
   "outputs": [
    {
     "data": {
      "text/html": [
       "<div>\n",
       "<style scoped>\n",
       "    .dataframe tbody tr th:only-of-type {\n",
       "        vertical-align: middle;\n",
       "    }\n",
       "\n",
       "    .dataframe tbody tr th {\n",
       "        vertical-align: top;\n",
       "    }\n",
       "\n",
       "    .dataframe thead th {\n",
       "        text-align: right;\n",
       "    }\n",
       "</style>\n",
       "<table border=\"1\" class=\"dataframe\">\n",
       "  <thead>\n",
       "    <tr style=\"text-align: right;\">\n",
       "      <th></th>\n",
       "      <th>Node</th>\n",
       "      <th>Count</th>\n",
       "    </tr>\n",
       "  </thead>\n",
       "  <tbody>\n",
       "    <tr>\n",
       "      <th>0</th>\n",
       "      <td>MetaNode</td>\n",
       "      <td>5</td>\n",
       "    </tr>\n",
       "    <tr>\n",
       "      <th>1</th>\n",
       "      <td>Symptom</td>\n",
       "      <td>4</td>\n",
       "    </tr>\n",
       "    <tr>\n",
       "      <th>2</th>\n",
       "      <td>Disease</td>\n",
       "      <td>3</td>\n",
       "    </tr>\n",
       "    <tr>\n",
       "      <th>3</th>\n",
       "      <td>Patient</td>\n",
       "      <td>3</td>\n",
       "    </tr>\n",
       "    <tr>\n",
       "      <th>4</th>\n",
       "      <td>City</td>\n",
       "      <td>3</td>\n",
       "    </tr>\n",
       "    <tr>\n",
       "      <th>5</th>\n",
       "      <td>State</td>\n",
       "      <td>1</td>\n",
       "    </tr>\n",
       "  </tbody>\n",
       "</table>\n",
       "</div>"
      ],
      "text/plain": [
       "       Node  Count\n",
       "0  MetaNode      5\n",
       "1   Symptom      4\n",
       "2   Disease      3\n",
       "3   Patient      3\n",
       "4      City      3\n",
       "5     State      1"
      ]
     },
     "execution_count": 7,
     "metadata": {},
     "output_type": "execute_result"
    }
   ],
   "source": [
    "query = \"\"\"\n",
    "MATCH (n) RETURN labels(n)[0] AS Node, COUNT(n) AS Count\n",
    "ORDER BY Count DESC\n",
    "\"\"\"\n",
    "graph.run(query).to_data_frame()"
   ]
  },
  {
   "cell_type": "markdown",
   "id": "1510b5b4-09d8-4ba8-8f4d-f022e9e4c67c",
   "metadata": {},
   "source": [
    "### Where do the patients live?"
   ]
  },
  {
   "cell_type": "code",
   "execution_count": 8,
   "id": "3cfc24ac-3c32-40b1-95a5-8986e874a866",
   "metadata": {},
   "outputs": [
    {
     "data": {
      "text/html": [
       "<div>\n",
       "<style scoped>\n",
       "    .dataframe tbody tr th:only-of-type {\n",
       "        vertical-align: middle;\n",
       "    }\n",
       "\n",
       "    .dataframe tbody tr th {\n",
       "        vertical-align: top;\n",
       "    }\n",
       "\n",
       "    .dataframe thead th {\n",
       "        text-align: right;\n",
       "    }\n",
       "</style>\n",
       "<table border=\"1\" class=\"dataframe\">\n",
       "  <thead>\n",
       "    <tr style=\"text-align: right;\">\n",
       "      <th></th>\n",
       "      <th>Firstname</th>\n",
       "      <th>Lastname</th>\n",
       "      <th>City</th>\n",
       "    </tr>\n",
       "  </thead>\n",
       "  <tbody>\n",
       "    <tr>\n",
       "      <th>0</th>\n",
       "      <td>John</td>\n",
       "      <td>Doe</td>\n",
       "      <td>San Francisco</td>\n",
       "    </tr>\n",
       "    <tr>\n",
       "      <th>1</th>\n",
       "      <td>Jane</td>\n",
       "      <td>Doe</td>\n",
       "      <td>Los Angeles</td>\n",
       "    </tr>\n",
       "    <tr>\n",
       "      <th>2</th>\n",
       "      <td>James</td>\n",
       "      <td>Bond</td>\n",
       "      <td>San Diego</td>\n",
       "    </tr>\n",
       "  </tbody>\n",
       "</table>\n",
       "</div>"
      ],
      "text/plain": [
       "  Firstname Lastname           City\n",
       "0      John      Doe  San Francisco\n",
       "1      Jane      Doe    Los Angeles\n",
       "2     James     Bond      San Diego"
      ]
     },
     "execution_count": 8,
     "metadata": {},
     "output_type": "execute_result"
    }
   ],
   "source": [
    "query = \"\"\"\n",
    "MATCH (p:Patient)-[:LIVES_IN]->(c:City)\n",
    "RETURN p.firstName AS Firstname, p.lastName AS Lastname, c.name AS City;\n",
    "\"\"\"\n",
    "graph.run(query).to_data_frame()"
   ]
  },
  {
   "cell_type": "markdown",
   "id": "17268732-e77b-4775-b407-958dbf9ef35b",
   "metadata": {},
   "source": [
    "### Which patients smoke?"
   ]
  },
  {
   "cell_type": "code",
   "execution_count": 9,
   "id": "c0bb74fb-d7d8-4691-a6c2-04037f0e2153",
   "metadata": {},
   "outputs": [
    {
     "data": {
      "text/html": [
       "<div>\n",
       "<style scoped>\n",
       "    .dataframe tbody tr th:only-of-type {\n",
       "        vertical-align: middle;\n",
       "    }\n",
       "\n",
       "    .dataframe tbody tr th {\n",
       "        vertical-align: top;\n",
       "    }\n",
       "\n",
       "    .dataframe thead th {\n",
       "        text-align: right;\n",
       "    }\n",
       "</style>\n",
       "<table border=\"1\" class=\"dataframe\">\n",
       "  <thead>\n",
       "    <tr style=\"text-align: right;\">\n",
       "      <th></th>\n",
       "      <th>Firstname</th>\n",
       "      <th>Lastname</th>\n",
       "    </tr>\n",
       "  </thead>\n",
       "  <tbody>\n",
       "    <tr>\n",
       "      <th>0</th>\n",
       "      <td>John</td>\n",
       "      <td>Doe</td>\n",
       "    </tr>\n",
       "    <tr>\n",
       "      <th>1</th>\n",
       "      <td>James</td>\n",
       "      <td>Bond</td>\n",
       "    </tr>\n",
       "  </tbody>\n",
       "</table>\n",
       "</div>"
      ],
      "text/plain": [
       "  Firstname Lastname\n",
       "0      John      Doe\n",
       "1     James     Bond"
      ]
     },
     "execution_count": 9,
     "metadata": {},
     "output_type": "execute_result"
    }
   ],
   "source": [
    "query = \"\"\"\n",
    "MATCH (p:Patient)\n",
    "WHERE p.smoker = True\n",
    "RETURN p.firstName AS Firstname, p.lastName AS Lastname;\n",
    "\"\"\"\n",
    "graph.run(query).to_data_frame()"
   ]
  },
  {
   "cell_type": "markdown",
   "id": "b77a798e-de58-4baf-a7f2-ef0afc1328c4",
   "metadata": {},
   "source": [
    "## What kind of diseases do the smokers have?"
   ]
  },
  {
   "cell_type": "code",
   "execution_count": 10,
   "id": "7a37d73f-c174-411d-bedb-584e7697bd88",
   "metadata": {},
   "outputs": [
    {
     "data": {
      "text/html": [
       "<div>\n",
       "<style scoped>\n",
       "    .dataframe tbody tr th:only-of-type {\n",
       "        vertical-align: middle;\n",
       "    }\n",
       "\n",
       "    .dataframe tbody tr th {\n",
       "        vertical-align: top;\n",
       "    }\n",
       "\n",
       "    .dataframe thead th {\n",
       "        text-align: right;\n",
       "    }\n",
       "</style>\n",
       "<table border=\"1\" class=\"dataframe\">\n",
       "  <thead>\n",
       "    <tr style=\"text-align: right;\">\n",
       "      <th></th>\n",
       "      <th>Firstname</th>\n",
       "      <th>Lastname</th>\n",
       "      <th>Disease</th>\n",
       "    </tr>\n",
       "  </thead>\n",
       "  <tbody>\n",
       "    <tr>\n",
       "      <th>0</th>\n",
       "      <td>John</td>\n",
       "      <td>Doe</td>\n",
       "      <td>type 2 diabetes mellitus</td>\n",
       "    </tr>\n",
       "    <tr>\n",
       "      <th>1</th>\n",
       "      <td>James</td>\n",
       "      <td>Bond</td>\n",
       "      <td>COVID-19</td>\n",
       "    </tr>\n",
       "  </tbody>\n",
       "</table>\n",
       "</div>"
      ],
      "text/plain": [
       "  Firstname Lastname                   Disease\n",
       "0      John      Doe  type 2 diabetes mellitus\n",
       "1     James     Bond                  COVID-19"
      ]
     },
     "execution_count": 10,
     "metadata": {},
     "output_type": "execute_result"
    }
   ],
   "source": [
    "query = \"\"\"\n",
    "MATCH (p:Patient)-[:DIAGNOSED_WITH]->(d:Disease)\n",
    "WHERE p.smoker = True\n",
    "RETURN p.firstName AS Firstname, p.lastName AS Lastname, d.name as Disease;\n",
    "\"\"\"\n",
    "graph.run(query).to_data_frame()"
   ]
  },
  {
   "cell_type": "markdown",
   "id": "dbe19b92-cb32-4671-8d74-1ce2fc801471",
   "metadata": {},
   "source": [
    "### Which patients live in California?"
   ]
  },
  {
   "cell_type": "code",
   "execution_count": 11,
   "id": "5b7f21df-4820-469c-a525-d842d5070b31",
   "metadata": {},
   "outputs": [
    {
     "data": {
      "text/html": [
       "<div>\n",
       "<style scoped>\n",
       "    .dataframe tbody tr th:only-of-type {\n",
       "        vertical-align: middle;\n",
       "    }\n",
       "\n",
       "    .dataframe tbody tr th {\n",
       "        vertical-align: top;\n",
       "    }\n",
       "\n",
       "    .dataframe thead th {\n",
       "        text-align: right;\n",
       "    }\n",
       "</style>\n",
       "<table border=\"1\" class=\"dataframe\">\n",
       "  <thead>\n",
       "    <tr style=\"text-align: right;\">\n",
       "      <th></th>\n",
       "      <th>Firstname</th>\n",
       "      <th>Lastname</th>\n",
       "      <th>City</th>\n",
       "    </tr>\n",
       "  </thead>\n",
       "  <tbody>\n",
       "    <tr>\n",
       "      <th>0</th>\n",
       "      <td>James</td>\n",
       "      <td>Bond</td>\n",
       "      <td>San Diego</td>\n",
       "    </tr>\n",
       "    <tr>\n",
       "      <th>1</th>\n",
       "      <td>Jane</td>\n",
       "      <td>Doe</td>\n",
       "      <td>Los Angeles</td>\n",
       "    </tr>\n",
       "    <tr>\n",
       "      <th>2</th>\n",
       "      <td>John</td>\n",
       "      <td>Doe</td>\n",
       "      <td>San Francisco</td>\n",
       "    </tr>\n",
       "  </tbody>\n",
       "</table>\n",
       "</div>"
      ],
      "text/plain": [
       "  Firstname Lastname           City\n",
       "0     James     Bond      San Diego\n",
       "1      Jane      Doe    Los Angeles\n",
       "2      John      Doe  San Francisco"
      ]
     },
     "execution_count": 11,
     "metadata": {},
     "output_type": "execute_result"
    }
   ],
   "source": [
    "query = \"\"\"\n",
    "MATCH (p:Patient)-[:LIVES_IN]->(c:City)-[:LOCATED_IN]->(s:State)\n",
    "WHERE s.name = 'California'\n",
    "RETURN p.firstName AS Firstname, p.lastName AS Lastname, c.name AS City;\n",
    "\"\"\"\n",
    "graph.run(query).to_data_frame()"
   ]
  },
  {
   "cell_type": "markdown",
   "id": "7eeddb57-8c1b-4fa7-8af0-6b35617feb75",
   "metadata": {},
   "source": [
    "### How many patients live in California?"
   ]
  },
  {
   "cell_type": "code",
   "execution_count": 12,
   "id": "e5653735-f8e7-4779-95d6-6573c7bce8c4",
   "metadata": {},
   "outputs": [
    {
     "name": "stdout",
     "output_type": "stream",
     "text": [
      "Patients in California: 3\n"
     ]
    }
   ],
   "source": [
    "query = \"\"\"\n",
    "MATCH (p:Patient)-[:LIVES_IN]->(:City)-[:LOCATED_IN]->(s:State) \n",
    "WHERE s.name = 'California' \n",
    "RETURN COUNT(p)\n",
    "\"\"\"\n",
    "n = graph.evaluate(query)\n",
    "print(f'Patients in California: {n}')"
   ]
  },
  {
   "cell_type": "markdown",
   "id": "76726091-e244-49bb-a659-7d98cb5abfeb",
   "metadata": {},
   "source": [
    "### Full text query for Diabetes"
   ]
  },
  {
   "cell_type": "code",
   "execution_count": 13,
   "id": "04fae75e-8f9a-4fde-b2ef-864d44972c0b",
   "metadata": {},
   "outputs": [],
   "source": [
    "query = \"\"\"\n",
    "CALL db.index.fulltext.queryNodes('fulltext', $keyword) YIELD node, score\n",
    "RETURN node.id as id, node.name as disease, score\n",
    "\"\"\""
   ]
  },
  {
   "cell_type": "code",
   "execution_count": 14,
   "id": "d6db5522-cbd4-4d30-987b-c7903f3a1b8c",
   "metadata": {},
   "outputs": [
    {
     "data": {
      "text/html": [
       "<div>\n",
       "<style scoped>\n",
       "    .dataframe tbody tr th:only-of-type {\n",
       "        vertical-align: middle;\n",
       "    }\n",
       "\n",
       "    .dataframe tbody tr th {\n",
       "        vertical-align: top;\n",
       "    }\n",
       "\n",
       "    .dataframe thead th {\n",
       "        text-align: right;\n",
       "    }\n",
       "</style>\n",
       "<table border=\"1\" class=\"dataframe\">\n",
       "  <thead>\n",
       "    <tr style=\"text-align: right;\">\n",
       "      <th></th>\n",
       "      <th>id</th>\n",
       "      <th>disease</th>\n",
       "      <th>score</th>\n",
       "    </tr>\n",
       "  </thead>\n",
       "  <tbody>\n",
       "    <tr>\n",
       "      <th>0</th>\n",
       "      <td>DOID:9352</td>\n",
       "      <td>type 2 diabetes mellitus</td>\n",
       "      <td>0.704895</td>\n",
       "    </tr>\n",
       "  </tbody>\n",
       "</table>\n",
       "</div>"
      ],
      "text/plain": [
       "          id                   disease     score\n",
       "0  DOID:9352  type 2 diabetes mellitus  0.704895"
      ]
     },
     "execution_count": 14,
     "metadata": {},
     "output_type": "execute_result"
    }
   ],
   "source": [
    "keyword = \"Diabetes\"\n",
    "graph.run(query, keyword=keyword).to_data_frame()"
   ]
  }
 ],
 "metadata": {
  "kernelspec": {
   "display_name": "Python 3 (ipykernel)",
   "language": "python",
   "name": "python3"
  },
  "language_info": {
   "codemirror_mode": {
    "name": "ipython",
    "version": 3
   },
   "file_extension": ".py",
   "mimetype": "text/x-python",
   "name": "python",
   "nbconvert_exporter": "python",
   "pygments_lexer": "ipython3",
   "version": "3.10.12"
  }
 },
 "nbformat": 4,
 "nbformat_minor": 5
}
