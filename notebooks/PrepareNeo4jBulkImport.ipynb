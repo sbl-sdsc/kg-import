{
 "cells": [
  {
   "cell_type": "markdown",
   "metadata": {},
   "source": [
    "# PrepareNeo4jBulkImport\n",
    "This notebook uses metadata to prepare CSV Files for Neo4j Bulk Data Import\n",
    "\n",
    "Author: Peter W. Rose (pwrose@ucsd.edu)"
   ]
  },
  {
   "cell_type": "code",
   "execution_count": 1,
   "metadata": {},
   "outputs": [],
   "source": [
    "import os\n",
    "from os import walk\n",
    "from os.path import join\n",
    "import pandas as pd\n",
    "import numpy as np\n",
    "from utils import create_node_headers, create_relationship_headers, get_node_data_headers, get_relationship_data_headers, create_meta_node, create_meta_relationship"
   ]
  },
  {
   "cell_type": "code",
   "execution_count": 2,
   "metadata": {},
   "outputs": [],
   "source": [
    "# reload modules before executing user code\n",
    "%load_ext autoreload\n",
    "%autoreload 2"
   ]
  },
  {
   "cell_type": "code",
   "execution_count": 3,
   "metadata": {},
   "outputs": [],
   "source": [
    "# configure pandas dataframe\n",
    "pd.options.display.max_rows = None  # display all rows\n",
    "pd.options.display.max_columns = None  # display all columsns\n",
    "pd.set_option(\"display.max_colwidth\", None)"
   ]
  },
  {
   "cell_type": "markdown",
   "metadata": {},
   "source": [
    "## Specify working directories"
   ]
  },
  {
   "cell_type": "markdown",
   "metadata": {},
   "source": [
    "If NEO4J_HOME directory is not set, this notebook creates the example_results/import directory as a proxy for a Neo4j import directory."
   ]
  },
  {
   "cell_type": "code",
   "execution_count": 4,
   "metadata": {},
   "outputs": [],
   "source": [
    "NEO4J_HOME = os.getenv(\"NEO4J_HOME\", default=\"../example_results\")"
   ]
  },
  {
   "cell_type": "markdown",
   "metadata": {},
   "source": [
    "Location of Neo4j import directory"
   ]
  },
  {
   "cell_type": "code",
   "execution_count": 5,
   "metadata": {},
   "outputs": [],
   "source": [
    "NEO4J_IMPORT = os.path.join(NEO4J_HOME, \"import\")"
   ]
  },
  {
   "cell_type": "markdown",
   "metadata": {},
   "source": [
    "Create the example_results/import directory for testing the example provided in this repo."
   ]
  },
  {
   "cell_type": "code",
   "execution_count": 6,
   "metadata": {},
   "outputs": [],
   "source": [
    "if NEO4J_HOME == \"../example_results\":\n",
    "    os.makedirs(os.path.join(NEO4J_IMPORT), exist_ok=True)"
   ]
  },
  {
   "cell_type": "markdown",
   "metadata": {},
   "source": [
    "Locations of metadata files (Defaults are files for testing this notebook)"
   ]
  },
  {
   "cell_type": "code",
   "execution_count": 7,
   "metadata": {},
   "outputs": [],
   "source": [
    "METADATA = os.getenv(\"NEO4J_METADATA\", default=\"../example_metadata/\")\n",
    "NODE_METADATA = os.path.join(METADATA, \"nodes\")\n",
    "RELATIONSHIP_METADATA = os.path.join(METADATA, \"relationships\")"
   ]
  },
  {
   "cell_type": "markdown",
   "metadata": {},
   "source": [
    "Locations of data files (Defaults are files for testing this notebook)"
   ]
  },
  {
   "cell_type": "code",
   "execution_count": 8,
   "metadata": {},
   "outputs": [],
   "source": [
    "DATA = os.getenv(\"NEO4J_DATA\", default=\"../example_data/\")\n",
    "NODE_DATA = os.path.join(DATA, \"nodes\")\n",
    "RELATIONSHIP_DATA = os.path.join(DATA, \"relationships\")"
   ]
  },
  {
   "cell_type": "markdown",
   "metadata": {},
   "source": [
    "## Create headers from metadata files"
   ]
  },
  {
   "cell_type": "markdown",
   "metadata": {},
   "source": [
    "Create the node name, the expected node file header, and the Neo4j header for bulk import from the metadata files."
   ]
  },
  {
   "cell_type": "code",
   "execution_count": 9,
   "metadata": {},
   "outputs": [],
   "source": [
    "dirpath, _, filenames = next(walk(NODE_METADATA))\n",
    "node_headers = [create_node_headers(dirpath, filename) for filename in filenames]"
   ]
  },
  {
   "cell_type": "code",
   "execution_count": 10,
   "metadata": {},
   "outputs": [],
   "source": [
    "node_metadata = pd.DataFrame(node_headers)"
   ]
  },
  {
   "cell_type": "code",
   "execution_count": 11,
   "metadata": {},
   "outputs": [
    {
     "data": {
      "text/html": [
       "<div>\n",
       "<style scoped>\n",
       "    .dataframe tbody tr th:only-of-type {\n",
       "        vertical-align: middle;\n",
       "    }\n",
       "\n",
       "    .dataframe tbody tr th {\n",
       "        vertical-align: top;\n",
       "    }\n",
       "\n",
       "    .dataframe thead th {\n",
       "        text-align: right;\n",
       "    }\n",
       "</style>\n",
       "<table border=\"1\" class=\"dataframe\">\n",
       "  <thead>\n",
       "    <tr style=\"text-align: right;\">\n",
       "      <th></th>\n",
       "      <th>node</th>\n",
       "      <th>metadataHeader</th>\n",
       "      <th>importHeader</th>\n",
       "      <th>metadataPath</th>\n",
       "    </tr>\n",
       "  </thead>\n",
       "  <tbody>\n",
       "    <tr>\n",
       "      <th>0</th>\n",
       "      <td>Patient</td>\n",
       "      <td>id,firstName,lastName,age,sex,smoker</td>\n",
       "      <td>id:ID(Patient-ID),firstName:string,lastName:string,age:int,sex:string,smoker:boolean</td>\n",
       "      <td>../example_metadata/nodes/Patient.csv</td>\n",
       "    </tr>\n",
       "    <tr>\n",
       "      <th>1</th>\n",
       "      <td>State</td>\n",
       "      <td>id,name,synonyms,population,location</td>\n",
       "      <td>id:ID(State-ID),name:string,synonyms:string[],population:int,location:point{crs:WGS-84}</td>\n",
       "      <td>../example_metadata/nodes/State.csv</td>\n",
       "    </tr>\n",
       "    <tr>\n",
       "      <th>2</th>\n",
       "      <td>City</td>\n",
       "      <td>id,name,synonyms,population,location</td>\n",
       "      <td>id:ID(City-ID),name:string,synonyms:string[],population:int,location:point{crs:WGS-84}</td>\n",
       "      <td>../example_metadata/nodes/City.csv</td>\n",
       "    </tr>\n",
       "    <tr>\n",
       "      <th>3</th>\n",
       "      <td>Symptom</td>\n",
       "      <td>id,name</td>\n",
       "      <td>id:ID(Symptom-ID),name:string</td>\n",
       "      <td>../example_metadata/nodes/Symptom.csv</td>\n",
       "    </tr>\n",
       "    <tr>\n",
       "      <th>4</th>\n",
       "      <td>Disease</td>\n",
       "      <td>id,name</td>\n",
       "      <td>id:ID(Disease-ID),name:string</td>\n",
       "      <td>../example_metadata/nodes/Disease.csv</td>\n",
       "    </tr>\n",
       "  </tbody>\n",
       "</table>\n",
       "</div>"
      ],
      "text/plain": [
       "      node                        metadataHeader  \\\n",
       "0  Patient  id,firstName,lastName,age,sex,smoker   \n",
       "1    State  id,name,synonyms,population,location   \n",
       "2     City  id,name,synonyms,population,location   \n",
       "3  Symptom                               id,name   \n",
       "4  Disease                               id,name   \n",
       "\n",
       "                                                                              importHeader  \\\n",
       "0     id:ID(Patient-ID),firstName:string,lastName:string,age:int,sex:string,smoker:boolean   \n",
       "1  id:ID(State-ID),name:string,synonyms:string[],population:int,location:point{crs:WGS-84}   \n",
       "2   id:ID(City-ID),name:string,synonyms:string[],population:int,location:point{crs:WGS-84}   \n",
       "3                                                            id:ID(Symptom-ID),name:string   \n",
       "4                                                            id:ID(Disease-ID),name:string   \n",
       "\n",
       "                            metadataPath  \n",
       "0  ../example_metadata/nodes/Patient.csv  \n",
       "1    ../example_metadata/nodes/State.csv  \n",
       "2     ../example_metadata/nodes/City.csv  \n",
       "3  ../example_metadata/nodes/Symptom.csv  \n",
       "4  ../example_metadata/nodes/Disease.csv  "
      ]
     },
     "execution_count": 11,
     "metadata": {},
     "output_type": "execute_result"
    }
   ],
   "source": [
    "node_metadata"
   ]
  },
  {
   "cell_type": "markdown",
   "metadata": {},
   "source": [
    "Create the relationship name, the expected relatinonship file header, and the Neo4j header for bulk import from the metadata files."
   ]
  },
  {
   "cell_type": "code",
   "execution_count": 12,
   "metadata": {},
   "outputs": [],
   "source": [
    "dirpath, _, filenames = next(walk(RELATIONSHIP_METADATA))\n",
    "relationship_headers = [create_relationship_headers(dirpath, filename) for filename in filenames]"
   ]
  },
  {
   "cell_type": "code",
   "execution_count": 13,
   "metadata": {},
   "outputs": [],
   "source": [
    "relationship_metadata = pd.DataFrame(relationship_headers)"
   ]
  },
  {
   "cell_type": "code",
   "execution_count": 14,
   "metadata": {},
   "outputs": [
    {
     "data": {
      "text/html": [
       "<div>\n",
       "<style scoped>\n",
       "    .dataframe tbody tr th:only-of-type {\n",
       "        vertical-align: middle;\n",
       "    }\n",
       "\n",
       "    .dataframe tbody tr th {\n",
       "        vertical-align: top;\n",
       "    }\n",
       "\n",
       "    .dataframe thead th {\n",
       "        text-align: right;\n",
       "    }\n",
       "</style>\n",
       "<table border=\"1\" class=\"dataframe\">\n",
       "  <thead>\n",
       "    <tr style=\"text-align: right;\">\n",
       "      <th></th>\n",
       "      <th>relationship</th>\n",
       "      <th>metadataHeader</th>\n",
       "      <th>importHeader</th>\n",
       "      <th>source</th>\n",
       "      <th>target</th>\n",
       "      <th>metadataPath</th>\n",
       "    </tr>\n",
       "  </thead>\n",
       "  <tbody>\n",
       "    <tr>\n",
       "      <th>0</th>\n",
       "      <td>LOCATED_IN</td>\n",
       "      <td>from,to</td>\n",
       "      <td>:START_ID(City-ID),:END_ID(State-ID)</td>\n",
       "      <td>City</td>\n",
       "      <td>State</td>\n",
       "      <td>../example_metadata/relationships/City-LOCATED_IN-State.csv</td>\n",
       "    </tr>\n",
       "    <tr>\n",
       "      <th>1</th>\n",
       "      <td>DIAGNOSED_WITH</td>\n",
       "      <td>from,to,diagnosisDate</td>\n",
       "      <td>:START_ID(Patient-ID),:END_ID(Disease-ID),diagnosisDate:date</td>\n",
       "      <td>Patient</td>\n",
       "      <td>Disease</td>\n",
       "      <td>../example_metadata/relationships/Patient-DIAGNOSED_WITH-Disease.csv</td>\n",
       "    </tr>\n",
       "    <tr>\n",
       "      <th>2</th>\n",
       "      <td>LIVES_IN</td>\n",
       "      <td>from,to</td>\n",
       "      <td>:START_ID(Patient-ID),:END_ID(City-ID)</td>\n",
       "      <td>Patient</td>\n",
       "      <td>City</td>\n",
       "      <td>../example_metadata/relationships/Patient-LIVES_IN-City.csv</td>\n",
       "    </tr>\n",
       "    <tr>\n",
       "      <th>3</th>\n",
       "      <td>SHOWS</td>\n",
       "      <td>from,to,startDate</td>\n",
       "      <td>:START_ID(Patient-ID),:END_ID(Symptom-ID),startDate:date</td>\n",
       "      <td>Patient</td>\n",
       "      <td>Symptom</td>\n",
       "      <td>../example_metadata/relationships/Patient-SHOWS-Symptom.csv</td>\n",
       "    </tr>\n",
       "    <tr>\n",
       "      <th>4</th>\n",
       "      <td>PRESENTS</td>\n",
       "      <td>from,to</td>\n",
       "      <td>:START_ID(Disease-ID),:END_ID(Symptom-ID)</td>\n",
       "      <td>Disease</td>\n",
       "      <td>Symptom</td>\n",
       "      <td>../example_metadata/relationships/Disease-PRESENTS-Symptom.csv</td>\n",
       "    </tr>\n",
       "  </tbody>\n",
       "</table>\n",
       "</div>"
      ],
      "text/plain": [
       "     relationship         metadataHeader  \\\n",
       "0      LOCATED_IN                from,to   \n",
       "1  DIAGNOSED_WITH  from,to,diagnosisDate   \n",
       "2        LIVES_IN                from,to   \n",
       "3           SHOWS      from,to,startDate   \n",
       "4        PRESENTS                from,to   \n",
       "\n",
       "                                                   importHeader   source  \\\n",
       "0                          :START_ID(City-ID),:END_ID(State-ID)     City   \n",
       "1  :START_ID(Patient-ID),:END_ID(Disease-ID),diagnosisDate:date  Patient   \n",
       "2                        :START_ID(Patient-ID),:END_ID(City-ID)  Patient   \n",
       "3      :START_ID(Patient-ID),:END_ID(Symptom-ID),startDate:date  Patient   \n",
       "4                     :START_ID(Disease-ID),:END_ID(Symptom-ID)  Disease   \n",
       "\n",
       "    target  \\\n",
       "0    State   \n",
       "1  Disease   \n",
       "2     City   \n",
       "3  Symptom   \n",
       "4  Symptom   \n",
       "\n",
       "                                                           metadataPath  \n",
       "0           ../example_metadata/relationships/City-LOCATED_IN-State.csv  \n",
       "1  ../example_metadata/relationships/Patient-DIAGNOSED_WITH-Disease.csv  \n",
       "2           ../example_metadata/relationships/Patient-LIVES_IN-City.csv  \n",
       "3           ../example_metadata/relationships/Patient-SHOWS-Symptom.csv  \n",
       "4        ../example_metadata/relationships/Disease-PRESENTS-Symptom.csv  "
      ]
     },
     "execution_count": 14,
     "metadata": {},
     "output_type": "execute_result"
    }
   ],
   "source": [
    "relationship_metadata"
   ]
  },
  {
   "cell_type": "markdown",
   "metadata": {},
   "source": [
    "## Add constraints and indices for Nodes"
   ]
  },
  {
   "cell_type": "code",
   "execution_count": 15,
   "metadata": {},
   "outputs": [],
   "source": [
    "def get_string_properties(row):\n",
    "    node = row[\"node\"]\n",
    "    header = row[\"importHeader\"]\n",
    "    fields = header.split(\",\")\n",
    "    fields = filter(lambda field: field.endswith(\":string\"), fields)\n",
    "    string_properties = []\n",
    "    \n",
    "    for field in fields:\n",
    "        field_name = field.split(\":\")[0]\n",
    "        string_properties.append(field_name)\n",
    "\n",
    "    return string_properties"
   ]
  },
  {
   "cell_type": "code",
   "execution_count": 16,
   "metadata": {},
   "outputs": [],
   "source": [
    "node_metadata[\"stringProperties\"] = node_metadata.apply(get_string_properties, axis=1)"
   ]
  },
  {
   "cell_type": "code",
   "execution_count": 17,
   "metadata": {},
   "outputs": [],
   "source": [
    "def add_index(row):\n",
    "    node = row[\"node\"]\n",
    "    properties = row[\"stringProperties\"]\n",
    "    indices = f\"CREATE CONSTRAINT {node} FOR (n:{node}) REQUIRE n.id IS UNIQUE;\"\n",
    "    \n",
    "    for prop in properties:\n",
    "        indices += f\"CREATE INDEX {node}_{prop} FOR (n:{node}) ON (n.{prop});\"\n",
    "        #indices += f\"CREATE FULLTEXT INDEX FOR (n:{node}) ON EACH [n.{prop}];\"\n",
    "\n",
    "    return indices"
   ]
  },
  {
   "cell_type": "code",
   "execution_count": 18,
   "metadata": {},
   "outputs": [],
   "source": [
    "node_metadata[\"index\"] = node_metadata.apply(add_index, axis=1)"
   ]
  },
  {
   "cell_type": "code",
   "execution_count": 19,
   "metadata": {},
   "outputs": [
    {
     "data": {
      "text/html": [
       "<div>\n",
       "<style scoped>\n",
       "    .dataframe tbody tr th:only-of-type {\n",
       "        vertical-align: middle;\n",
       "    }\n",
       "\n",
       "    .dataframe tbody tr th {\n",
       "        vertical-align: top;\n",
       "    }\n",
       "\n",
       "    .dataframe thead th {\n",
       "        text-align: right;\n",
       "    }\n",
       "</style>\n",
       "<table border=\"1\" class=\"dataframe\">\n",
       "  <thead>\n",
       "    <tr style=\"text-align: right;\">\n",
       "      <th></th>\n",
       "      <th>node</th>\n",
       "      <th>metadataHeader</th>\n",
       "      <th>importHeader</th>\n",
       "      <th>metadataPath</th>\n",
       "      <th>stringProperties</th>\n",
       "      <th>index</th>\n",
       "    </tr>\n",
       "  </thead>\n",
       "  <tbody>\n",
       "    <tr>\n",
       "      <th>0</th>\n",
       "      <td>Patient</td>\n",
       "      <td>id,firstName,lastName,age,sex,smoker</td>\n",
       "      <td>id:ID(Patient-ID),firstName:string,lastName:string,age:int,sex:string,smoker:boolean</td>\n",
       "      <td>../example_metadata/nodes/Patient.csv</td>\n",
       "      <td>[firstName, lastName, sex]</td>\n",
       "      <td>CREATE CONSTRAINT Patient FOR (n:Patient) REQUIRE n.id IS UNIQUE;CREATE INDEX Patient_firstName FOR (n:Patient) ON (n.firstName);CREATE INDEX Patient_lastName FOR (n:Patient) ON (n.lastName);CREATE INDEX Patient_sex FOR (n:Patient) ON (n.sex);</td>\n",
       "    </tr>\n",
       "    <tr>\n",
       "      <th>1</th>\n",
       "      <td>State</td>\n",
       "      <td>id,name,synonyms,population,location</td>\n",
       "      <td>id:ID(State-ID),name:string,synonyms:string[],population:int,location:point{crs:WGS-84}</td>\n",
       "      <td>../example_metadata/nodes/State.csv</td>\n",
       "      <td>[name]</td>\n",
       "      <td>CREATE CONSTRAINT State FOR (n:State) REQUIRE n.id IS UNIQUE;CREATE INDEX State_name FOR (n:State) ON (n.name);</td>\n",
       "    </tr>\n",
       "    <tr>\n",
       "      <th>2</th>\n",
       "      <td>City</td>\n",
       "      <td>id,name,synonyms,population,location</td>\n",
       "      <td>id:ID(City-ID),name:string,synonyms:string[],population:int,location:point{crs:WGS-84}</td>\n",
       "      <td>../example_metadata/nodes/City.csv</td>\n",
       "      <td>[name]</td>\n",
       "      <td>CREATE CONSTRAINT City FOR (n:City) REQUIRE n.id IS UNIQUE;CREATE INDEX City_name FOR (n:City) ON (n.name);</td>\n",
       "    </tr>\n",
       "    <tr>\n",
       "      <th>3</th>\n",
       "      <td>Symptom</td>\n",
       "      <td>id,name</td>\n",
       "      <td>id:ID(Symptom-ID),name:string</td>\n",
       "      <td>../example_metadata/nodes/Symptom.csv</td>\n",
       "      <td>[name]</td>\n",
       "      <td>CREATE CONSTRAINT Symptom FOR (n:Symptom) REQUIRE n.id IS UNIQUE;CREATE INDEX Symptom_name FOR (n:Symptom) ON (n.name);</td>\n",
       "    </tr>\n",
       "    <tr>\n",
       "      <th>4</th>\n",
       "      <td>Disease</td>\n",
       "      <td>id,name</td>\n",
       "      <td>id:ID(Disease-ID),name:string</td>\n",
       "      <td>../example_metadata/nodes/Disease.csv</td>\n",
       "      <td>[name]</td>\n",
       "      <td>CREATE CONSTRAINT Disease FOR (n:Disease) REQUIRE n.id IS UNIQUE;CREATE INDEX Disease_name FOR (n:Disease) ON (n.name);</td>\n",
       "    </tr>\n",
       "  </tbody>\n",
       "</table>\n",
       "</div>"
      ],
      "text/plain": [
       "      node                        metadataHeader  \\\n",
       "0  Patient  id,firstName,lastName,age,sex,smoker   \n",
       "1    State  id,name,synonyms,population,location   \n",
       "2     City  id,name,synonyms,population,location   \n",
       "3  Symptom                               id,name   \n",
       "4  Disease                               id,name   \n",
       "\n",
       "                                                                              importHeader  \\\n",
       "0     id:ID(Patient-ID),firstName:string,lastName:string,age:int,sex:string,smoker:boolean   \n",
       "1  id:ID(State-ID),name:string,synonyms:string[],population:int,location:point{crs:WGS-84}   \n",
       "2   id:ID(City-ID),name:string,synonyms:string[],population:int,location:point{crs:WGS-84}   \n",
       "3                                                            id:ID(Symptom-ID),name:string   \n",
       "4                                                            id:ID(Disease-ID),name:string   \n",
       "\n",
       "                            metadataPath            stringProperties  \\\n",
       "0  ../example_metadata/nodes/Patient.csv  [firstName, lastName, sex]   \n",
       "1    ../example_metadata/nodes/State.csv                      [name]   \n",
       "2     ../example_metadata/nodes/City.csv                      [name]   \n",
       "3  ../example_metadata/nodes/Symptom.csv                      [name]   \n",
       "4  ../example_metadata/nodes/Disease.csv                      [name]   \n",
       "\n",
       "                                                                                                                                                                                                                                                 index  \n",
       "0  CREATE CONSTRAINT Patient FOR (n:Patient) REQUIRE n.id IS UNIQUE;CREATE INDEX Patient_firstName FOR (n:Patient) ON (n.firstName);CREATE INDEX Patient_lastName FOR (n:Patient) ON (n.lastName);CREATE INDEX Patient_sex FOR (n:Patient) ON (n.sex);  \n",
       "1                                                                                                                                      CREATE CONSTRAINT State FOR (n:State) REQUIRE n.id IS UNIQUE;CREATE INDEX State_name FOR (n:State) ON (n.name);  \n",
       "2                                                                                                                                          CREATE CONSTRAINT City FOR (n:City) REQUIRE n.id IS UNIQUE;CREATE INDEX City_name FOR (n:City) ON (n.name);  \n",
       "3                                                                                                                              CREATE CONSTRAINT Symptom FOR (n:Symptom) REQUIRE n.id IS UNIQUE;CREATE INDEX Symptom_name FOR (n:Symptom) ON (n.name);  \n",
       "4                                                                                                                              CREATE CONSTRAINT Disease FOR (n:Disease) REQUIRE n.id IS UNIQUE;CREATE INDEX Disease_name FOR (n:Disease) ON (n.name);  "
      ]
     },
     "execution_count": 19,
     "metadata": {},
     "output_type": "execute_result"
    }
   ],
   "source": [
    "node_metadata.head()"
   ]
  },
  {
   "cell_type": "markdown",
   "metadata": {},
   "source": [
    "## Get headers from data files"
   ]
  },
  {
   "cell_type": "markdown",
   "metadata": {},
   "source": [
    "Node data files"
   ]
  },
  {
   "cell_type": "code",
   "execution_count": 20,
   "metadata": {},
   "outputs": [
    {
     "name": "stdout",
     "output_type": "stream",
     "text": [
      "Node Data ../example_data/nodes State.csv\n",
      "Node Data ../example_data/nodes City.csv\n",
      "Node Data ../example_data/nodes Symptom.csv\n",
      "Node Data ../example_data/nodes Patient_2021.csv\n",
      "Node Data ../example_data/nodes Disease.csv\n",
      "Node Data ../example_data/nodes Patient_2020.csv\n"
     ]
    }
   ],
   "source": [
    "dirpath, _, filenames = next(walk(NODE_DATA))\n",
    "csv_files = filter(lambda name: name.endswith(\".csv\"), filenames)\n",
    "data_headers = [get_node_data_headers(dirpath, filename) for filename in csv_files]"
   ]
  },
  {
   "cell_type": "code",
   "execution_count": 21,
   "metadata": {},
   "outputs": [],
   "source": [
    "node_data = pd.DataFrame(data_headers)"
   ]
  },
  {
   "cell_type": "code",
   "execution_count": 22,
   "metadata": {},
   "outputs": [
    {
     "data": {
      "text/html": [
       "<div>\n",
       "<style scoped>\n",
       "    .dataframe tbody tr th:only-of-type {\n",
       "        vertical-align: middle;\n",
       "    }\n",
       "\n",
       "    .dataframe tbody tr th {\n",
       "        vertical-align: top;\n",
       "    }\n",
       "\n",
       "    .dataframe thead th {\n",
       "        text-align: right;\n",
       "    }\n",
       "</style>\n",
       "<table border=\"1\" class=\"dataframe\">\n",
       "  <thead>\n",
       "    <tr style=\"text-align: right;\">\n",
       "      <th></th>\n",
       "      <th>node</th>\n",
       "      <th>dataHeader</th>\n",
       "      <th>dataPath</th>\n",
       "    </tr>\n",
       "  </thead>\n",
       "  <tbody>\n",
       "    <tr>\n",
       "      <th>0</th>\n",
       "      <td>State</td>\n",
       "      <td>id,name,synonyms,population,location</td>\n",
       "      <td>../example_data/nodes/State.csv</td>\n",
       "    </tr>\n",
       "    <tr>\n",
       "      <th>1</th>\n",
       "      <td>City</td>\n",
       "      <td>id,name,synonyms,population,location</td>\n",
       "      <td>../example_data/nodes/City.csv</td>\n",
       "    </tr>\n",
       "    <tr>\n",
       "      <th>2</th>\n",
       "      <td>Symptom</td>\n",
       "      <td>id,name</td>\n",
       "      <td>../example_data/nodes/Symptom.csv</td>\n",
       "    </tr>\n",
       "    <tr>\n",
       "      <th>3</th>\n",
       "      <td>Patient</td>\n",
       "      <td>id,firstName,lastName,age,sex,smoker</td>\n",
       "      <td>../example_data/nodes/Patient_2021.csv</td>\n",
       "    </tr>\n",
       "    <tr>\n",
       "      <th>4</th>\n",
       "      <td>Disease</td>\n",
       "      <td>id,name</td>\n",
       "      <td>../example_data/nodes/Disease.csv</td>\n",
       "    </tr>\n",
       "    <tr>\n",
       "      <th>5</th>\n",
       "      <td>Patient</td>\n",
       "      <td>id,firstName,lastName,age,sex,smoker</td>\n",
       "      <td>../example_data/nodes/Patient_2020.csv</td>\n",
       "    </tr>\n",
       "  </tbody>\n",
       "</table>\n",
       "</div>"
      ],
      "text/plain": [
       "      node                            dataHeader  \\\n",
       "0    State  id,name,synonyms,population,location   \n",
       "1     City  id,name,synonyms,population,location   \n",
       "2  Symptom                               id,name   \n",
       "3  Patient  id,firstName,lastName,age,sex,smoker   \n",
       "4  Disease                               id,name   \n",
       "5  Patient  id,firstName,lastName,age,sex,smoker   \n",
       "\n",
       "                                 dataPath  \n",
       "0         ../example_data/nodes/State.csv  \n",
       "1          ../example_data/nodes/City.csv  \n",
       "2       ../example_data/nodes/Symptom.csv  \n",
       "3  ../example_data/nodes/Patient_2021.csv  \n",
       "4       ../example_data/nodes/Disease.csv  \n",
       "5  ../example_data/nodes/Patient_2020.csv  "
      ]
     },
     "execution_count": 22,
     "metadata": {},
     "output_type": "execute_result"
    }
   ],
   "source": [
    "node_data"
   ]
  },
  {
   "cell_type": "markdown",
   "metadata": {},
   "source": [
    "Relationship data files"
   ]
  },
  {
   "cell_type": "code",
   "execution_count": 23,
   "metadata": {},
   "outputs": [
    {
     "name": "stdout",
     "output_type": "stream",
     "text": [
      "Relationship Data ../example_data/relationships City-LOCATED_IN-State.csv\n",
      "Relationship Data ../example_data/relationships Patient-DIAGNOSED_WITH-Disease_2021.csv\n",
      "Relationship Data ../example_data/relationships Patient-DIAGNOSED_WITH-Disease_2020.csv\n",
      "Relationship Data ../example_data/relationships Patient-LIVES_IN-City.csv\n",
      "Relationship Data ../example_data/relationships Patient-SHOWS-Symptom.csv\n",
      "Relationship Data ../example_data/relationships Disease-PRESENTS-Symptom.csv\n"
     ]
    }
   ],
   "source": [
    "dirpath, _, filenames = next(walk(RELATIONSHIP_DATA))\n",
    "csv_files = filter(lambda name: name.endswith(\".csv\"), filenames)\n",
    "data_headers = [get_relationship_data_headers(dirpath, filename) for filename in csv_files]"
   ]
  },
  {
   "cell_type": "code",
   "execution_count": 24,
   "metadata": {},
   "outputs": [],
   "source": [
    "relationship_data = pd.DataFrame(data_headers)"
   ]
  },
  {
   "cell_type": "code",
   "execution_count": 25,
   "metadata": {},
   "outputs": [
    {
     "data": {
      "text/html": [
       "<div>\n",
       "<style scoped>\n",
       "    .dataframe tbody tr th:only-of-type {\n",
       "        vertical-align: middle;\n",
       "    }\n",
       "\n",
       "    .dataframe tbody tr th {\n",
       "        vertical-align: top;\n",
       "    }\n",
       "\n",
       "    .dataframe thead th {\n",
       "        text-align: right;\n",
       "    }\n",
       "</style>\n",
       "<table border=\"1\" class=\"dataframe\">\n",
       "  <thead>\n",
       "    <tr style=\"text-align: right;\">\n",
       "      <th></th>\n",
       "      <th>relationship</th>\n",
       "      <th>dataHeader</th>\n",
       "      <th>dataPath</th>\n",
       "    </tr>\n",
       "  </thead>\n",
       "  <tbody>\n",
       "    <tr>\n",
       "      <th>0</th>\n",
       "      <td>LOCATED_IN</td>\n",
       "      <td>from,to</td>\n",
       "      <td>../example_data/relationships/City-LOCATED_IN-State.csv</td>\n",
       "    </tr>\n",
       "    <tr>\n",
       "      <th>1</th>\n",
       "      <td>DIAGNOSED_WITH</td>\n",
       "      <td>from,to,diagnosisDate</td>\n",
       "      <td>../example_data/relationships/Patient-DIAGNOSED_WITH-Disease_2021.csv</td>\n",
       "    </tr>\n",
       "    <tr>\n",
       "      <th>2</th>\n",
       "      <td>DIAGNOSED_WITH</td>\n",
       "      <td>from,to,diagnosisDate</td>\n",
       "      <td>../example_data/relationships/Patient-DIAGNOSED_WITH-Disease_2020.csv</td>\n",
       "    </tr>\n",
       "    <tr>\n",
       "      <th>3</th>\n",
       "      <td>LIVES_IN</td>\n",
       "      <td>from,to</td>\n",
       "      <td>../example_data/relationships/Patient-LIVES_IN-City.csv</td>\n",
       "    </tr>\n",
       "    <tr>\n",
       "      <th>4</th>\n",
       "      <td>SHOWS</td>\n",
       "      <td>from,to,startDate</td>\n",
       "      <td>../example_data/relationships/Patient-SHOWS-Symptom.csv</td>\n",
       "    </tr>\n",
       "    <tr>\n",
       "      <th>5</th>\n",
       "      <td>PRESENTS</td>\n",
       "      <td>from,to</td>\n",
       "      <td>../example_data/relationships/Disease-PRESENTS-Symptom.csv</td>\n",
       "    </tr>\n",
       "  </tbody>\n",
       "</table>\n",
       "</div>"
      ],
      "text/plain": [
       "     relationship             dataHeader  \\\n",
       "0      LOCATED_IN                from,to   \n",
       "1  DIAGNOSED_WITH  from,to,diagnosisDate   \n",
       "2  DIAGNOSED_WITH  from,to,diagnosisDate   \n",
       "3        LIVES_IN                from,to   \n",
       "4           SHOWS      from,to,startDate   \n",
       "5        PRESENTS                from,to   \n",
       "\n",
       "                                                                dataPath  \n",
       "0                ../example_data/relationships/City-LOCATED_IN-State.csv  \n",
       "1  ../example_data/relationships/Patient-DIAGNOSED_WITH-Disease_2021.csv  \n",
       "2  ../example_data/relationships/Patient-DIAGNOSED_WITH-Disease_2020.csv  \n",
       "3                ../example_data/relationships/Patient-LIVES_IN-City.csv  \n",
       "4                ../example_data/relationships/Patient-SHOWS-Symptom.csv  \n",
       "5             ../example_data/relationships/Disease-PRESENTS-Symptom.csv  "
      ]
     },
     "execution_count": 25,
     "metadata": {},
     "output_type": "execute_result"
    }
   ],
   "source": [
    "relationship_data"
   ]
  },
  {
   "cell_type": "markdown",
   "metadata": {},
   "source": [
    "## Merge metadata with data"
   ]
  },
  {
   "cell_type": "code",
   "execution_count": 26,
   "metadata": {},
   "outputs": [],
   "source": [
    "matched_nodes = node_data.merge(node_metadata, on=\"node\", how=\"outer\")\n",
    "matched_nodes[\"match\"] = matched_nodes[\"dataHeader\"] == matched_nodes[\"metadataHeader\"]\n",
    "matched_nodes.fillna(\"\", inplace=True)"
   ]
  },
  {
   "cell_type": "code",
   "execution_count": 27,
   "metadata": {},
   "outputs": [
    {
     "data": {
      "text/html": [
       "<div>\n",
       "<style scoped>\n",
       "    .dataframe tbody tr th:only-of-type {\n",
       "        vertical-align: middle;\n",
       "    }\n",
       "\n",
       "    .dataframe tbody tr th {\n",
       "        vertical-align: top;\n",
       "    }\n",
       "\n",
       "    .dataframe thead th {\n",
       "        text-align: right;\n",
       "    }\n",
       "</style>\n",
       "<table border=\"1\" class=\"dataframe\">\n",
       "  <thead>\n",
       "    <tr style=\"text-align: right;\">\n",
       "      <th></th>\n",
       "      <th>node</th>\n",
       "      <th>dataHeader</th>\n",
       "      <th>dataPath</th>\n",
       "      <th>metadataHeader</th>\n",
       "      <th>importHeader</th>\n",
       "      <th>metadataPath</th>\n",
       "      <th>stringProperties</th>\n",
       "      <th>index</th>\n",
       "      <th>match</th>\n",
       "    </tr>\n",
       "  </thead>\n",
       "  <tbody>\n",
       "    <tr>\n",
       "      <th>0</th>\n",
       "      <td>State</td>\n",
       "      <td>id,name,synonyms,population,location</td>\n",
       "      <td>../example_data/nodes/State.csv</td>\n",
       "      <td>id,name,synonyms,population,location</td>\n",
       "      <td>id:ID(State-ID),name:string,synonyms:string[],population:int,location:point{crs:WGS-84}</td>\n",
       "      <td>../example_metadata/nodes/State.csv</td>\n",
       "      <td>[name]</td>\n",
       "      <td>CREATE CONSTRAINT State FOR (n:State) REQUIRE n.id IS UNIQUE;CREATE INDEX State_name FOR (n:State) ON (n.name);</td>\n",
       "      <td>True</td>\n",
       "    </tr>\n",
       "    <tr>\n",
       "      <th>1</th>\n",
       "      <td>City</td>\n",
       "      <td>id,name,synonyms,population,location</td>\n",
       "      <td>../example_data/nodes/City.csv</td>\n",
       "      <td>id,name,synonyms,population,location</td>\n",
       "      <td>id:ID(City-ID),name:string,synonyms:string[],population:int,location:point{crs:WGS-84}</td>\n",
       "      <td>../example_metadata/nodes/City.csv</td>\n",
       "      <td>[name]</td>\n",
       "      <td>CREATE CONSTRAINT City FOR (n:City) REQUIRE n.id IS UNIQUE;CREATE INDEX City_name FOR (n:City) ON (n.name);</td>\n",
       "      <td>True</td>\n",
       "    </tr>\n",
       "    <tr>\n",
       "      <th>2</th>\n",
       "      <td>Symptom</td>\n",
       "      <td>id,name</td>\n",
       "      <td>../example_data/nodes/Symptom.csv</td>\n",
       "      <td>id,name</td>\n",
       "      <td>id:ID(Symptom-ID),name:string</td>\n",
       "      <td>../example_metadata/nodes/Symptom.csv</td>\n",
       "      <td>[name]</td>\n",
       "      <td>CREATE CONSTRAINT Symptom FOR (n:Symptom) REQUIRE n.id IS UNIQUE;CREATE INDEX Symptom_name FOR (n:Symptom) ON (n.name);</td>\n",
       "      <td>True</td>\n",
       "    </tr>\n",
       "    <tr>\n",
       "      <th>3</th>\n",
       "      <td>Patient</td>\n",
       "      <td>id,firstName,lastName,age,sex,smoker</td>\n",
       "      <td>../example_data/nodes/Patient_2021.csv</td>\n",
       "      <td>id,firstName,lastName,age,sex,smoker</td>\n",
       "      <td>id:ID(Patient-ID),firstName:string,lastName:string,age:int,sex:string,smoker:boolean</td>\n",
       "      <td>../example_metadata/nodes/Patient.csv</td>\n",
       "      <td>[firstName, lastName, sex]</td>\n",
       "      <td>CREATE CONSTRAINT Patient FOR (n:Patient) REQUIRE n.id IS UNIQUE;CREATE INDEX Patient_firstName FOR (n:Patient) ON (n.firstName);CREATE INDEX Patient_lastName FOR (n:Patient) ON (n.lastName);CREATE INDEX Patient_sex FOR (n:Patient) ON (n.sex);</td>\n",
       "      <td>True</td>\n",
       "    </tr>\n",
       "    <tr>\n",
       "      <th>4</th>\n",
       "      <td>Patient</td>\n",
       "      <td>id,firstName,lastName,age,sex,smoker</td>\n",
       "      <td>../example_data/nodes/Patient_2020.csv</td>\n",
       "      <td>id,firstName,lastName,age,sex,smoker</td>\n",
       "      <td>id:ID(Patient-ID),firstName:string,lastName:string,age:int,sex:string,smoker:boolean</td>\n",
       "      <td>../example_metadata/nodes/Patient.csv</td>\n",
       "      <td>[firstName, lastName, sex]</td>\n",
       "      <td>CREATE CONSTRAINT Patient FOR (n:Patient) REQUIRE n.id IS UNIQUE;CREATE INDEX Patient_firstName FOR (n:Patient) ON (n.firstName);CREATE INDEX Patient_lastName FOR (n:Patient) ON (n.lastName);CREATE INDEX Patient_sex FOR (n:Patient) ON (n.sex);</td>\n",
       "      <td>True</td>\n",
       "    </tr>\n",
       "    <tr>\n",
       "      <th>5</th>\n",
       "      <td>Disease</td>\n",
       "      <td>id,name</td>\n",
       "      <td>../example_data/nodes/Disease.csv</td>\n",
       "      <td>id,name</td>\n",
       "      <td>id:ID(Disease-ID),name:string</td>\n",
       "      <td>../example_metadata/nodes/Disease.csv</td>\n",
       "      <td>[name]</td>\n",
       "      <td>CREATE CONSTRAINT Disease FOR (n:Disease) REQUIRE n.id IS UNIQUE;CREATE INDEX Disease_name FOR (n:Disease) ON (n.name);</td>\n",
       "      <td>True</td>\n",
       "    </tr>\n",
       "  </tbody>\n",
       "</table>\n",
       "</div>"
      ],
      "text/plain": [
       "      node                            dataHeader  \\\n",
       "0    State  id,name,synonyms,population,location   \n",
       "1     City  id,name,synonyms,population,location   \n",
       "2  Symptom                               id,name   \n",
       "3  Patient  id,firstName,lastName,age,sex,smoker   \n",
       "4  Patient  id,firstName,lastName,age,sex,smoker   \n",
       "5  Disease                               id,name   \n",
       "\n",
       "                                 dataPath  \\\n",
       "0         ../example_data/nodes/State.csv   \n",
       "1          ../example_data/nodes/City.csv   \n",
       "2       ../example_data/nodes/Symptom.csv   \n",
       "3  ../example_data/nodes/Patient_2021.csv   \n",
       "4  ../example_data/nodes/Patient_2020.csv   \n",
       "5       ../example_data/nodes/Disease.csv   \n",
       "\n",
       "                         metadataHeader  \\\n",
       "0  id,name,synonyms,population,location   \n",
       "1  id,name,synonyms,population,location   \n",
       "2                               id,name   \n",
       "3  id,firstName,lastName,age,sex,smoker   \n",
       "4  id,firstName,lastName,age,sex,smoker   \n",
       "5                               id,name   \n",
       "\n",
       "                                                                              importHeader  \\\n",
       "0  id:ID(State-ID),name:string,synonyms:string[],population:int,location:point{crs:WGS-84}   \n",
       "1   id:ID(City-ID),name:string,synonyms:string[],population:int,location:point{crs:WGS-84}   \n",
       "2                                                            id:ID(Symptom-ID),name:string   \n",
       "3     id:ID(Patient-ID),firstName:string,lastName:string,age:int,sex:string,smoker:boolean   \n",
       "4     id:ID(Patient-ID),firstName:string,lastName:string,age:int,sex:string,smoker:boolean   \n",
       "5                                                            id:ID(Disease-ID),name:string   \n",
       "\n",
       "                            metadataPath            stringProperties  \\\n",
       "0    ../example_metadata/nodes/State.csv                      [name]   \n",
       "1     ../example_metadata/nodes/City.csv                      [name]   \n",
       "2  ../example_metadata/nodes/Symptom.csv                      [name]   \n",
       "3  ../example_metadata/nodes/Patient.csv  [firstName, lastName, sex]   \n",
       "4  ../example_metadata/nodes/Patient.csv  [firstName, lastName, sex]   \n",
       "5  ../example_metadata/nodes/Disease.csv                      [name]   \n",
       "\n",
       "                                                                                                                                                                                                                                                 index  \\\n",
       "0                                                                                                                                      CREATE CONSTRAINT State FOR (n:State) REQUIRE n.id IS UNIQUE;CREATE INDEX State_name FOR (n:State) ON (n.name);   \n",
       "1                                                                                                                                          CREATE CONSTRAINT City FOR (n:City) REQUIRE n.id IS UNIQUE;CREATE INDEX City_name FOR (n:City) ON (n.name);   \n",
       "2                                                                                                                              CREATE CONSTRAINT Symptom FOR (n:Symptom) REQUIRE n.id IS UNIQUE;CREATE INDEX Symptom_name FOR (n:Symptom) ON (n.name);   \n",
       "3  CREATE CONSTRAINT Patient FOR (n:Patient) REQUIRE n.id IS UNIQUE;CREATE INDEX Patient_firstName FOR (n:Patient) ON (n.firstName);CREATE INDEX Patient_lastName FOR (n:Patient) ON (n.lastName);CREATE INDEX Patient_sex FOR (n:Patient) ON (n.sex);   \n",
       "4  CREATE CONSTRAINT Patient FOR (n:Patient) REQUIRE n.id IS UNIQUE;CREATE INDEX Patient_firstName FOR (n:Patient) ON (n.firstName);CREATE INDEX Patient_lastName FOR (n:Patient) ON (n.lastName);CREATE INDEX Patient_sex FOR (n:Patient) ON (n.sex);   \n",
       "5                                                                                                                              CREATE CONSTRAINT Disease FOR (n:Disease) REQUIRE n.id IS UNIQUE;CREATE INDEX Disease_name FOR (n:Disease) ON (n.name);   \n",
       "\n",
       "   match  \n",
       "0   True  \n",
       "1   True  \n",
       "2   True  \n",
       "3   True  \n",
       "4   True  \n",
       "5   True  "
      ]
     },
     "execution_count": 27,
     "metadata": {},
     "output_type": "execute_result"
    }
   ],
   "source": [
    "matched_nodes"
   ]
  },
  {
   "cell_type": "code",
   "execution_count": 28,
   "metadata": {},
   "outputs": [
    {
     "data": {
      "text/html": [
       "<div>\n",
       "<style scoped>\n",
       "    .dataframe tbody tr th:only-of-type {\n",
       "        vertical-align: middle;\n",
       "    }\n",
       "\n",
       "    .dataframe tbody tr th {\n",
       "        vertical-align: top;\n",
       "    }\n",
       "\n",
       "    .dataframe thead th {\n",
       "        text-align: right;\n",
       "    }\n",
       "</style>\n",
       "<table border=\"1\" class=\"dataframe\">\n",
       "  <thead>\n",
       "    <tr style=\"text-align: right;\">\n",
       "      <th></th>\n",
       "      <th>node</th>\n",
       "      <th>dataHeader</th>\n",
       "      <th>dataPath</th>\n",
       "      <th>metadataHeader</th>\n",
       "      <th>importHeader</th>\n",
       "      <th>metadataPath</th>\n",
       "      <th>stringProperties</th>\n",
       "      <th>index</th>\n",
       "      <th>match</th>\n",
       "    </tr>\n",
       "  </thead>\n",
       "  <tbody>\n",
       "  </tbody>\n",
       "</table>\n",
       "</div>"
      ],
      "text/plain": [
       "Empty DataFrame\n",
       "Columns: [node, dataHeader, dataPath, metadataHeader, importHeader, metadataPath, stringProperties, index, match]\n",
       "Index: []"
      ]
     },
     "execution_count": 28,
     "metadata": {},
     "output_type": "execute_result"
    }
   ],
   "source": [
    "mismatched_nodes = matched_nodes[(matched_nodes[\"match\"] == False) & (matched_nodes[\"dataPath\"] != \"\")]\n",
    "mismatched_nodes"
   ]
  },
  {
   "cell_type": "code",
   "execution_count": 29,
   "metadata": {},
   "outputs": [
    {
     "data": {
      "text/html": [
       "<div>\n",
       "<style scoped>\n",
       "    .dataframe tbody tr th:only-of-type {\n",
       "        vertical-align: middle;\n",
       "    }\n",
       "\n",
       "    .dataframe tbody tr th {\n",
       "        vertical-align: top;\n",
       "    }\n",
       "\n",
       "    .dataframe thead th {\n",
       "        text-align: right;\n",
       "    }\n",
       "</style>\n",
       "<table border=\"1\" class=\"dataframe\">\n",
       "  <thead>\n",
       "    <tr style=\"text-align: right;\">\n",
       "      <th></th>\n",
       "      <th>node</th>\n",
       "      <th>dataHeader</th>\n",
       "      <th>dataPath</th>\n",
       "      <th>metadataHeader</th>\n",
       "      <th>importHeader</th>\n",
       "      <th>metadataPath</th>\n",
       "      <th>stringProperties</th>\n",
       "      <th>index</th>\n",
       "      <th>match</th>\n",
       "    </tr>\n",
       "  </thead>\n",
       "  <tbody>\n",
       "  </tbody>\n",
       "</table>\n",
       "</div>"
      ],
      "text/plain": [
       "Empty DataFrame\n",
       "Columns: [node, dataHeader, dataPath, metadataHeader, importHeader, metadataPath, stringProperties, index, match]\n",
       "Index: []"
      ]
     },
     "execution_count": 29,
     "metadata": {},
     "output_type": "execute_result"
    }
   ],
   "source": [
    "if mismatched_nodes.shape[0] > 0:\n",
    "    print(\"The following node data files do not match the metadata specification:\")\n",
    "    mismatched_nodes.to_csv(os.path.join(NEO4J_IMPORT, \"mismatches_n.csv\"), index=False)\n",
    "    \n",
    "mismatched_nodes"
   ]
  },
  {
   "cell_type": "code",
   "execution_count": 30,
   "metadata": {},
   "outputs": [
    {
     "data": {
      "text/html": [
       "<div>\n",
       "<style scoped>\n",
       "    .dataframe tbody tr th:only-of-type {\n",
       "        vertical-align: middle;\n",
       "    }\n",
       "\n",
       "    .dataframe tbody tr th {\n",
       "        vertical-align: top;\n",
       "    }\n",
       "\n",
       "    .dataframe thead th {\n",
       "        text-align: right;\n",
       "    }\n",
       "</style>\n",
       "<table border=\"1\" class=\"dataframe\">\n",
       "  <thead>\n",
       "    <tr style=\"text-align: right;\">\n",
       "      <th></th>\n",
       "      <th>relationship</th>\n",
       "      <th>dataHeader</th>\n",
       "      <th>dataPath</th>\n",
       "      <th>metadataHeader</th>\n",
       "      <th>importHeader</th>\n",
       "      <th>source</th>\n",
       "      <th>target</th>\n",
       "      <th>metadataPath</th>\n",
       "      <th>match</th>\n",
       "      <th>fullRelationship</th>\n",
       "    </tr>\n",
       "  </thead>\n",
       "  <tbody>\n",
       "    <tr>\n",
       "      <th>0</th>\n",
       "      <td>LOCATED_IN</td>\n",
       "      <td>from,to</td>\n",
       "      <td>../example_data/relationships/City-LOCATED_IN-State.csv</td>\n",
       "      <td>from,to</td>\n",
       "      <td>:START_ID(City-ID),:END_ID(State-ID)</td>\n",
       "      <td>City</td>\n",
       "      <td>State</td>\n",
       "      <td>../example_metadata/relationships/City-LOCATED_IN-State.csv</td>\n",
       "      <td>True</td>\n",
       "      <td>City-LOCATED_IN-State</td>\n",
       "    </tr>\n",
       "    <tr>\n",
       "      <th>1</th>\n",
       "      <td>DIAGNOSED_WITH</td>\n",
       "      <td>from,to,diagnosisDate</td>\n",
       "      <td>../example_data/relationships/Patient-DIAGNOSED_WITH-Disease_2021.csv</td>\n",
       "      <td>from,to,diagnosisDate</td>\n",
       "      <td>:START_ID(Patient-ID),:END_ID(Disease-ID),diagnosisDate:date</td>\n",
       "      <td>Patient</td>\n",
       "      <td>Disease</td>\n",
       "      <td>../example_metadata/relationships/Patient-DIAGNOSED_WITH-Disease.csv</td>\n",
       "      <td>True</td>\n",
       "      <td>Patient-DIAGNOSED_WITH-Disease</td>\n",
       "    </tr>\n",
       "    <tr>\n",
       "      <th>2</th>\n",
       "      <td>DIAGNOSED_WITH</td>\n",
       "      <td>from,to,diagnosisDate</td>\n",
       "      <td>../example_data/relationships/Patient-DIAGNOSED_WITH-Disease_2020.csv</td>\n",
       "      <td>from,to,diagnosisDate</td>\n",
       "      <td>:START_ID(Patient-ID),:END_ID(Disease-ID),diagnosisDate:date</td>\n",
       "      <td>Patient</td>\n",
       "      <td>Disease</td>\n",
       "      <td>../example_metadata/relationships/Patient-DIAGNOSED_WITH-Disease.csv</td>\n",
       "      <td>True</td>\n",
       "      <td>Patient-DIAGNOSED_WITH-Disease</td>\n",
       "    </tr>\n",
       "    <tr>\n",
       "      <th>3</th>\n",
       "      <td>LIVES_IN</td>\n",
       "      <td>from,to</td>\n",
       "      <td>../example_data/relationships/Patient-LIVES_IN-City.csv</td>\n",
       "      <td>from,to</td>\n",
       "      <td>:START_ID(Patient-ID),:END_ID(City-ID)</td>\n",
       "      <td>Patient</td>\n",
       "      <td>City</td>\n",
       "      <td>../example_metadata/relationships/Patient-LIVES_IN-City.csv</td>\n",
       "      <td>True</td>\n",
       "      <td>Patient-LIVES_IN-City</td>\n",
       "    </tr>\n",
       "    <tr>\n",
       "      <th>4</th>\n",
       "      <td>SHOWS</td>\n",
       "      <td>from,to,startDate</td>\n",
       "      <td>../example_data/relationships/Patient-SHOWS-Symptom.csv</td>\n",
       "      <td>from,to,startDate</td>\n",
       "      <td>:START_ID(Patient-ID),:END_ID(Symptom-ID),startDate:date</td>\n",
       "      <td>Patient</td>\n",
       "      <td>Symptom</td>\n",
       "      <td>../example_metadata/relationships/Patient-SHOWS-Symptom.csv</td>\n",
       "      <td>True</td>\n",
       "      <td>Patient-SHOWS-Symptom</td>\n",
       "    </tr>\n",
       "    <tr>\n",
       "      <th>5</th>\n",
       "      <td>PRESENTS</td>\n",
       "      <td>from,to</td>\n",
       "      <td>../example_data/relationships/Disease-PRESENTS-Symptom.csv</td>\n",
       "      <td>from,to</td>\n",
       "      <td>:START_ID(Disease-ID),:END_ID(Symptom-ID)</td>\n",
       "      <td>Disease</td>\n",
       "      <td>Symptom</td>\n",
       "      <td>../example_metadata/relationships/Disease-PRESENTS-Symptom.csv</td>\n",
       "      <td>True</td>\n",
       "      <td>Disease-PRESENTS-Symptom</td>\n",
       "    </tr>\n",
       "  </tbody>\n",
       "</table>\n",
       "</div>"
      ],
      "text/plain": [
       "     relationship             dataHeader  \\\n",
       "0      LOCATED_IN                from,to   \n",
       "1  DIAGNOSED_WITH  from,to,diagnosisDate   \n",
       "2  DIAGNOSED_WITH  from,to,diagnosisDate   \n",
       "3        LIVES_IN                from,to   \n",
       "4           SHOWS      from,to,startDate   \n",
       "5        PRESENTS                from,to   \n",
       "\n",
       "                                                                dataPath  \\\n",
       "0                ../example_data/relationships/City-LOCATED_IN-State.csv   \n",
       "1  ../example_data/relationships/Patient-DIAGNOSED_WITH-Disease_2021.csv   \n",
       "2  ../example_data/relationships/Patient-DIAGNOSED_WITH-Disease_2020.csv   \n",
       "3                ../example_data/relationships/Patient-LIVES_IN-City.csv   \n",
       "4                ../example_data/relationships/Patient-SHOWS-Symptom.csv   \n",
       "5             ../example_data/relationships/Disease-PRESENTS-Symptom.csv   \n",
       "\n",
       "          metadataHeader  \\\n",
       "0                from,to   \n",
       "1  from,to,diagnosisDate   \n",
       "2  from,to,diagnosisDate   \n",
       "3                from,to   \n",
       "4      from,to,startDate   \n",
       "5                from,to   \n",
       "\n",
       "                                                   importHeader   source  \\\n",
       "0                          :START_ID(City-ID),:END_ID(State-ID)     City   \n",
       "1  :START_ID(Patient-ID),:END_ID(Disease-ID),diagnosisDate:date  Patient   \n",
       "2  :START_ID(Patient-ID),:END_ID(Disease-ID),diagnosisDate:date  Patient   \n",
       "3                        :START_ID(Patient-ID),:END_ID(City-ID)  Patient   \n",
       "4      :START_ID(Patient-ID),:END_ID(Symptom-ID),startDate:date  Patient   \n",
       "5                     :START_ID(Disease-ID),:END_ID(Symptom-ID)  Disease   \n",
       "\n",
       "    target  \\\n",
       "0    State   \n",
       "1  Disease   \n",
       "2  Disease   \n",
       "3     City   \n",
       "4  Symptom   \n",
       "5  Symptom   \n",
       "\n",
       "                                                           metadataPath  \\\n",
       "0           ../example_metadata/relationships/City-LOCATED_IN-State.csv   \n",
       "1  ../example_metadata/relationships/Patient-DIAGNOSED_WITH-Disease.csv   \n",
       "2  ../example_metadata/relationships/Patient-DIAGNOSED_WITH-Disease.csv   \n",
       "3           ../example_metadata/relationships/Patient-LIVES_IN-City.csv   \n",
       "4           ../example_metadata/relationships/Patient-SHOWS-Symptom.csv   \n",
       "5        ../example_metadata/relationships/Disease-PRESENTS-Symptom.csv   \n",
       "\n",
       "   match                fullRelationship  \n",
       "0   True           City-LOCATED_IN-State  \n",
       "1   True  Patient-DIAGNOSED_WITH-Disease  \n",
       "2   True  Patient-DIAGNOSED_WITH-Disease  \n",
       "3   True           Patient-LIVES_IN-City  \n",
       "4   True           Patient-SHOWS-Symptom  \n",
       "5   True        Disease-PRESENTS-Symptom  "
      ]
     },
     "execution_count": 30,
     "metadata": {},
     "output_type": "execute_result"
    }
   ],
   "source": [
    "matched_relationships = relationship_data.merge(relationship_metadata, on=\"relationship\", how=\"outer\")\n",
    "matched_relationships[\"match\"] = matched_relationships[\"dataHeader\"] == matched_relationships[\"metadataHeader\"]\n",
    "matched_relationships.fillna(\"\", inplace=True)\n",
    "matched_relationships[\"fullRelationship\"] = matched_relationships[\"source\"] + \"-\" + matched_relationships[\"relationship\"] + \"-\" + matched_relationships[\"target\"]\n",
    "matched_relationships"
   ]
  },
  {
   "cell_type": "code",
   "execution_count": 31,
   "metadata": {},
   "outputs": [
    {
     "data": {
      "text/html": [
       "<div>\n",
       "<style scoped>\n",
       "    .dataframe tbody tr th:only-of-type {\n",
       "        vertical-align: middle;\n",
       "    }\n",
       "\n",
       "    .dataframe tbody tr th {\n",
       "        vertical-align: top;\n",
       "    }\n",
       "\n",
       "    .dataframe thead th {\n",
       "        text-align: right;\n",
       "    }\n",
       "</style>\n",
       "<table border=\"1\" class=\"dataframe\">\n",
       "  <thead>\n",
       "    <tr style=\"text-align: right;\">\n",
       "      <th></th>\n",
       "      <th>relationship</th>\n",
       "      <th>dataHeader</th>\n",
       "      <th>dataPath</th>\n",
       "      <th>metadataHeader</th>\n",
       "      <th>importHeader</th>\n",
       "      <th>source</th>\n",
       "      <th>target</th>\n",
       "      <th>metadataPath</th>\n",
       "      <th>match</th>\n",
       "      <th>fullRelationship</th>\n",
       "    </tr>\n",
       "  </thead>\n",
       "  <tbody>\n",
       "  </tbody>\n",
       "</table>\n",
       "</div>"
      ],
      "text/plain": [
       "Empty DataFrame\n",
       "Columns: [relationship, dataHeader, dataPath, metadataHeader, importHeader, source, target, metadataPath, match, fullRelationship]\n",
       "Index: []"
      ]
     },
     "execution_count": 31,
     "metadata": {},
     "output_type": "execute_result"
    }
   ],
   "source": [
    "mismatched_relationships = matched_relationships[(matched_relationships[\"match\"] == False) & (matched_relationships[\"dataPath\"] != \"\")]\n",
    "if mismatched_relationships.shape[0] > 0:\n",
    "    print(\"The following relationship data files do not match the metadata specification:\")\n",
    "    mismatched_relationships.to_csv(os.path.join(NEO4J_IMPORT, \"mismatches_r.csv\"), index=False)\n",
    "    \n",
    "mismatched_relationships"
   ]
  },
  {
   "cell_type": "markdown",
   "metadata": {},
   "source": [
    "## Write Neo4j header files for bulk import"
   ]
  },
  {
   "cell_type": "code",
   "execution_count": 32,
   "metadata": {},
   "outputs": [],
   "source": [
    "def save_node_header(name, import_header, NEO4J_IMPORT):\n",
    "    df = pd.DataFrame([], columns=import_header.split(\",\"))\n",
    "    df.to_csv(os.path.join(NEO4J_IMPORT, \"header_\" + name + \"_n.csv\"), index=False)"
   ]
  },
  {
   "cell_type": "markdown",
   "metadata": {},
   "source": [
    "Write node header files"
   ]
  },
  {
   "cell_type": "code",
   "execution_count": 33,
   "metadata": {},
   "outputs": [],
   "source": [
    "matched_nodes.query(\"match == True\", inplace=True)"
   ]
  },
  {
   "cell_type": "code",
   "execution_count": 34,
   "metadata": {},
   "outputs": [],
   "source": [
    "out = matched_nodes.apply(lambda row: save_node_header(row[\"node\"], row[\"importHeader\"], NEO4J_IMPORT), axis=1)"
   ]
  },
  {
   "cell_type": "markdown",
   "metadata": {},
   "source": [
    "Write relationship header files"
   ]
  },
  {
   "cell_type": "code",
   "execution_count": 35,
   "metadata": {},
   "outputs": [],
   "source": [
    "def save_relationship_header(name, import_header, NEO4J_IMPORT):\n",
    "    df = pd.DataFrame([], columns=import_header.split(\",\"))\n",
    "    df.to_csv(os.path.join(NEO4J_IMPORT, \"header_\" + name + \"_r.csv\"), index=False)"
   ]
  },
  {
   "cell_type": "code",
   "execution_count": 36,
   "metadata": {},
   "outputs": [],
   "source": [
    "matched_relationships.query(\"match == True\", inplace=True)"
   ]
  },
  {
   "cell_type": "code",
   "execution_count": 37,
   "metadata": {},
   "outputs": [
    {
     "data": {
      "text/html": [
       "<div>\n",
       "<style scoped>\n",
       "    .dataframe tbody tr th:only-of-type {\n",
       "        vertical-align: middle;\n",
       "    }\n",
       "\n",
       "    .dataframe tbody tr th {\n",
       "        vertical-align: top;\n",
       "    }\n",
       "\n",
       "    .dataframe thead th {\n",
       "        text-align: right;\n",
       "    }\n",
       "</style>\n",
       "<table border=\"1\" class=\"dataframe\">\n",
       "  <thead>\n",
       "    <tr style=\"text-align: right;\">\n",
       "      <th></th>\n",
       "      <th>relationship</th>\n",
       "      <th>dataHeader</th>\n",
       "      <th>dataPath</th>\n",
       "      <th>metadataHeader</th>\n",
       "      <th>importHeader</th>\n",
       "      <th>source</th>\n",
       "      <th>target</th>\n",
       "      <th>metadataPath</th>\n",
       "      <th>match</th>\n",
       "      <th>fullRelationship</th>\n",
       "    </tr>\n",
       "  </thead>\n",
       "  <tbody>\n",
       "    <tr>\n",
       "      <th>0</th>\n",
       "      <td>LOCATED_IN</td>\n",
       "      <td>from,to</td>\n",
       "      <td>../example_data/relationships/City-LOCATED_IN-State.csv</td>\n",
       "      <td>from,to</td>\n",
       "      <td>:START_ID(City-ID),:END_ID(State-ID)</td>\n",
       "      <td>City</td>\n",
       "      <td>State</td>\n",
       "      <td>../example_metadata/relationships/City-LOCATED_IN-State.csv</td>\n",
       "      <td>True</td>\n",
       "      <td>City-LOCATED_IN-State</td>\n",
       "    </tr>\n",
       "    <tr>\n",
       "      <th>1</th>\n",
       "      <td>DIAGNOSED_WITH</td>\n",
       "      <td>from,to,diagnosisDate</td>\n",
       "      <td>../example_data/relationships/Patient-DIAGNOSED_WITH-Disease_2021.csv</td>\n",
       "      <td>from,to,diagnosisDate</td>\n",
       "      <td>:START_ID(Patient-ID),:END_ID(Disease-ID),diagnosisDate:date</td>\n",
       "      <td>Patient</td>\n",
       "      <td>Disease</td>\n",
       "      <td>../example_metadata/relationships/Patient-DIAGNOSED_WITH-Disease.csv</td>\n",
       "      <td>True</td>\n",
       "      <td>Patient-DIAGNOSED_WITH-Disease</td>\n",
       "    </tr>\n",
       "    <tr>\n",
       "      <th>2</th>\n",
       "      <td>DIAGNOSED_WITH</td>\n",
       "      <td>from,to,diagnosisDate</td>\n",
       "      <td>../example_data/relationships/Patient-DIAGNOSED_WITH-Disease_2020.csv</td>\n",
       "      <td>from,to,diagnosisDate</td>\n",
       "      <td>:START_ID(Patient-ID),:END_ID(Disease-ID),diagnosisDate:date</td>\n",
       "      <td>Patient</td>\n",
       "      <td>Disease</td>\n",
       "      <td>../example_metadata/relationships/Patient-DIAGNOSED_WITH-Disease.csv</td>\n",
       "      <td>True</td>\n",
       "      <td>Patient-DIAGNOSED_WITH-Disease</td>\n",
       "    </tr>\n",
       "    <tr>\n",
       "      <th>3</th>\n",
       "      <td>LIVES_IN</td>\n",
       "      <td>from,to</td>\n",
       "      <td>../example_data/relationships/Patient-LIVES_IN-City.csv</td>\n",
       "      <td>from,to</td>\n",
       "      <td>:START_ID(Patient-ID),:END_ID(City-ID)</td>\n",
       "      <td>Patient</td>\n",
       "      <td>City</td>\n",
       "      <td>../example_metadata/relationships/Patient-LIVES_IN-City.csv</td>\n",
       "      <td>True</td>\n",
       "      <td>Patient-LIVES_IN-City</td>\n",
       "    </tr>\n",
       "    <tr>\n",
       "      <th>4</th>\n",
       "      <td>SHOWS</td>\n",
       "      <td>from,to,startDate</td>\n",
       "      <td>../example_data/relationships/Patient-SHOWS-Symptom.csv</td>\n",
       "      <td>from,to,startDate</td>\n",
       "      <td>:START_ID(Patient-ID),:END_ID(Symptom-ID),startDate:date</td>\n",
       "      <td>Patient</td>\n",
       "      <td>Symptom</td>\n",
       "      <td>../example_metadata/relationships/Patient-SHOWS-Symptom.csv</td>\n",
       "      <td>True</td>\n",
       "      <td>Patient-SHOWS-Symptom</td>\n",
       "    </tr>\n",
       "    <tr>\n",
       "      <th>5</th>\n",
       "      <td>PRESENTS</td>\n",
       "      <td>from,to</td>\n",
       "      <td>../example_data/relationships/Disease-PRESENTS-Symptom.csv</td>\n",
       "      <td>from,to</td>\n",
       "      <td>:START_ID(Disease-ID),:END_ID(Symptom-ID)</td>\n",
       "      <td>Disease</td>\n",
       "      <td>Symptom</td>\n",
       "      <td>../example_metadata/relationships/Disease-PRESENTS-Symptom.csv</td>\n",
       "      <td>True</td>\n",
       "      <td>Disease-PRESENTS-Symptom</td>\n",
       "    </tr>\n",
       "  </tbody>\n",
       "</table>\n",
       "</div>"
      ],
      "text/plain": [
       "     relationship             dataHeader  \\\n",
       "0      LOCATED_IN                from,to   \n",
       "1  DIAGNOSED_WITH  from,to,diagnosisDate   \n",
       "2  DIAGNOSED_WITH  from,to,diagnosisDate   \n",
       "3        LIVES_IN                from,to   \n",
       "4           SHOWS      from,to,startDate   \n",
       "5        PRESENTS                from,to   \n",
       "\n",
       "                                                                dataPath  \\\n",
       "0                ../example_data/relationships/City-LOCATED_IN-State.csv   \n",
       "1  ../example_data/relationships/Patient-DIAGNOSED_WITH-Disease_2021.csv   \n",
       "2  ../example_data/relationships/Patient-DIAGNOSED_WITH-Disease_2020.csv   \n",
       "3                ../example_data/relationships/Patient-LIVES_IN-City.csv   \n",
       "4                ../example_data/relationships/Patient-SHOWS-Symptom.csv   \n",
       "5             ../example_data/relationships/Disease-PRESENTS-Symptom.csv   \n",
       "\n",
       "          metadataHeader  \\\n",
       "0                from,to   \n",
       "1  from,to,diagnosisDate   \n",
       "2  from,to,diagnosisDate   \n",
       "3                from,to   \n",
       "4      from,to,startDate   \n",
       "5                from,to   \n",
       "\n",
       "                                                   importHeader   source  \\\n",
       "0                          :START_ID(City-ID),:END_ID(State-ID)     City   \n",
       "1  :START_ID(Patient-ID),:END_ID(Disease-ID),diagnosisDate:date  Patient   \n",
       "2  :START_ID(Patient-ID),:END_ID(Disease-ID),diagnosisDate:date  Patient   \n",
       "3                        :START_ID(Patient-ID),:END_ID(City-ID)  Patient   \n",
       "4      :START_ID(Patient-ID),:END_ID(Symptom-ID),startDate:date  Patient   \n",
       "5                     :START_ID(Disease-ID),:END_ID(Symptom-ID)  Disease   \n",
       "\n",
       "    target  \\\n",
       "0    State   \n",
       "1  Disease   \n",
       "2  Disease   \n",
       "3     City   \n",
       "4  Symptom   \n",
       "5  Symptom   \n",
       "\n",
       "                                                           metadataPath  \\\n",
       "0           ../example_metadata/relationships/City-LOCATED_IN-State.csv   \n",
       "1  ../example_metadata/relationships/Patient-DIAGNOSED_WITH-Disease.csv   \n",
       "2  ../example_metadata/relationships/Patient-DIAGNOSED_WITH-Disease.csv   \n",
       "3           ../example_metadata/relationships/Patient-LIVES_IN-City.csv   \n",
       "4           ../example_metadata/relationships/Patient-SHOWS-Symptom.csv   \n",
       "5        ../example_metadata/relationships/Disease-PRESENTS-Symptom.csv   \n",
       "\n",
       "   match                fullRelationship  \n",
       "0   True           City-LOCATED_IN-State  \n",
       "1   True  Patient-DIAGNOSED_WITH-Disease  \n",
       "2   True  Patient-DIAGNOSED_WITH-Disease  \n",
       "3   True           Patient-LIVES_IN-City  \n",
       "4   True           Patient-SHOWS-Symptom  \n",
       "5   True        Disease-PRESENTS-Symptom  "
      ]
     },
     "execution_count": 37,
     "metadata": {},
     "output_type": "execute_result"
    }
   ],
   "source": [
    "matched_relationships"
   ]
  },
  {
   "cell_type": "code",
   "execution_count": 38,
   "metadata": {},
   "outputs": [],
   "source": [
    "out = matched_relationships.apply(lambda row: save_relationship_header(row[\"fullRelationship\"], row[\"importHeader\"], NEO4J_IMPORT), axis=1)"
   ]
  },
  {
   "cell_type": "markdown",
   "metadata": {},
   "source": [
    "## Create MetaNode and MetaRelationship files"
   ]
  },
  {
   "cell_type": "markdown",
   "metadata": {},
   "source": [
    "Compile a dictionary of all node properties"
   ]
  },
  {
   "cell_type": "code",
   "execution_count": 39,
   "metadata": {},
   "outputs": [],
   "source": [
    "property_dir = {}\n",
    "for header in matched_nodes[\"metadataHeader\"]:\n",
    "    for prop in header.split(\",\"):\n",
    "        property_dir[prop] = \"\""
   ]
  },
  {
   "cell_type": "markdown",
   "metadata": {},
   "source": [
    "Create dataframe with MetaNode data"
   ]
  },
  {
   "cell_type": "code",
   "execution_count": 40,
   "metadata": {},
   "outputs": [],
   "source": [
    "node_list = []\n",
    "for node, filepath in matched_nodes[[\"node\",\"metadataPath\"]].itertuples(index=False):\n",
    "    node_list.append(create_meta_node(node, property_dir, filepath))\n",
    "    \n",
    "meta_nodes = pd.DataFrame(node_list)\n",
    "meta_nodes.drop_duplicates(inplace=True)\n",
    "meta_nodes.to_csv(os.path.join(NEO4J_IMPORT, \"MetaNode_n.csv\"), index=False)"
   ]
  },
  {
   "cell_type": "code",
   "execution_count": 41,
   "metadata": {},
   "outputs": [
    {
     "data": {
      "text/html": [
       "<div>\n",
       "<style scoped>\n",
       "    .dataframe tbody tr th:only-of-type {\n",
       "        vertical-align: middle;\n",
       "    }\n",
       "\n",
       "    .dataframe tbody tr th {\n",
       "        vertical-align: top;\n",
       "    }\n",
       "\n",
       "    .dataframe thead th {\n",
       "        text-align: right;\n",
       "    }\n",
       "</style>\n",
       "<table border=\"1\" class=\"dataframe\">\n",
       "  <thead>\n",
       "    <tr style=\"text-align: right;\">\n",
       "      <th></th>\n",
       "      <th>id</th>\n",
       "      <th>name</th>\n",
       "      <th>synonyms</th>\n",
       "      <th>population</th>\n",
       "      <th>location</th>\n",
       "      <th>firstName</th>\n",
       "      <th>lastName</th>\n",
       "      <th>age</th>\n",
       "      <th>sex</th>\n",
       "      <th>smoker</th>\n",
       "      <th>nodeName:ID(MetaNode-ID)</th>\n",
       "    </tr>\n",
       "  </thead>\n",
       "  <tbody>\n",
       "    <tr>\n",
       "      <th>0</th>\n",
       "      <td>Geonames.org id for location (string)</td>\n",
       "      <td>Name of state (string)</td>\n",
       "      <td>Alternate names of state (string[])</td>\n",
       "      <td>Population (int)</td>\n",
       "      <td>Latitude and longitude in WGS-84 format (point{crs:WGS-84})</td>\n",
       "      <td></td>\n",
       "      <td></td>\n",
       "      <td></td>\n",
       "      <td></td>\n",
       "      <td></td>\n",
       "      <td>State</td>\n",
       "    </tr>\n",
       "    <tr>\n",
       "      <th>1</th>\n",
       "      <td>Geonames.org id for location (string)</td>\n",
       "      <td>Name of city (string)</td>\n",
       "      <td>Alternate names of city (string[])</td>\n",
       "      <td>Population (int)</td>\n",
       "      <td>Latitude and longitude in WGS-84 format (point{crs:WGS-84})</td>\n",
       "      <td></td>\n",
       "      <td></td>\n",
       "      <td></td>\n",
       "      <td></td>\n",
       "      <td></td>\n",
       "      <td>City</td>\n",
       "    </tr>\n",
       "    <tr>\n",
       "      <th>2</th>\n",
       "      <td>Symptom id from Symptom Ontology (string)</td>\n",
       "      <td>Name of symptom (string)</td>\n",
       "      <td></td>\n",
       "      <td></td>\n",
       "      <td></td>\n",
       "      <td></td>\n",
       "      <td></td>\n",
       "      <td></td>\n",
       "      <td></td>\n",
       "      <td></td>\n",
       "      <td>Symptom</td>\n",
       "    </tr>\n",
       "    <tr>\n",
       "      <th>3</th>\n",
       "      <td>Unique patient id (string)</td>\n",
       "      <td></td>\n",
       "      <td></td>\n",
       "      <td></td>\n",
       "      <td></td>\n",
       "      <td>First name (string)</td>\n",
       "      <td>Last name (string)</td>\n",
       "      <td>Age (int)</td>\n",
       "      <td>Biological sex (string)</td>\n",
       "      <td>Patient is a smoker (boolean)</td>\n",
       "      <td>Patient</td>\n",
       "    </tr>\n",
       "    <tr>\n",
       "      <th>5</th>\n",
       "      <td>Disease id from Human Disease Ontology (string)</td>\n",
       "      <td>Name of disease from Human Disease Ontology (string)</td>\n",
       "      <td></td>\n",
       "      <td></td>\n",
       "      <td></td>\n",
       "      <td></td>\n",
       "      <td></td>\n",
       "      <td></td>\n",
       "      <td></td>\n",
       "      <td></td>\n",
       "      <td>Disease</td>\n",
       "    </tr>\n",
       "  </tbody>\n",
       "</table>\n",
       "</div>"
      ],
      "text/plain": [
       "                                                id  \\\n",
       "0            Geonames.org id for location (string)   \n",
       "1            Geonames.org id for location (string)   \n",
       "2        Symptom id from Symptom Ontology (string)   \n",
       "3                       Unique patient id (string)   \n",
       "5  Disease id from Human Disease Ontology (string)   \n",
       "\n",
       "                                                   name  \\\n",
       "0                                Name of state (string)   \n",
       "1                                 Name of city (string)   \n",
       "2                              Name of symptom (string)   \n",
       "3                                                         \n",
       "5  Name of disease from Human Disease Ontology (string)   \n",
       "\n",
       "                              synonyms        population  \\\n",
       "0  Alternate names of state (string[])  Population (int)   \n",
       "1   Alternate names of city (string[])  Population (int)   \n",
       "2                                                          \n",
       "3                                                          \n",
       "5                                                          \n",
       "\n",
       "                                                      location  \\\n",
       "0  Latitude and longitude in WGS-84 format (point{crs:WGS-84})   \n",
       "1  Latitude and longitude in WGS-84 format (point{crs:WGS-84})   \n",
       "2                                                                \n",
       "3                                                                \n",
       "5                                                                \n",
       "\n",
       "             firstName            lastName        age  \\\n",
       "0                                                       \n",
       "1                                                       \n",
       "2                                                       \n",
       "3  First name (string)  Last name (string)  Age (int)   \n",
       "5                                                       \n",
       "\n",
       "                       sex                         smoker  \\\n",
       "0                                                           \n",
       "1                                                           \n",
       "2                                                           \n",
       "3  Biological sex (string)  Patient is a smoker (boolean)   \n",
       "5                                                           \n",
       "\n",
       "  nodeName:ID(MetaNode-ID)  \n",
       "0                    State  \n",
       "1                     City  \n",
       "2                  Symptom  \n",
       "3                  Patient  \n",
       "5                  Disease  "
      ]
     },
     "execution_count": 41,
     "metadata": {},
     "output_type": "execute_result"
    }
   ],
   "source": [
    "meta_nodes"
   ]
  },
  {
   "cell_type": "markdown",
   "metadata": {},
   "source": [
    "Compile a dictionary of all relationship properties"
   ]
  },
  {
   "cell_type": "code",
   "execution_count": 42,
   "metadata": {},
   "outputs": [],
   "source": [
    "property_dir = {}\n",
    "for header in matched_relationships[\"metadataHeader\"]:\n",
    "    for property in header.split(\",\"):\n",
    "        property_dir[property] = \"\""
   ]
  },
  {
   "cell_type": "markdown",
   "metadata": {},
   "source": [
    "Create dataframe with MetaRelationship data"
   ]
  },
  {
   "cell_type": "code",
   "execution_count": 43,
   "metadata": {},
   "outputs": [],
   "source": [
    "relationship_list = []\n",
    "for relationship, source, target, filepath in matched_relationships[[\"relationship\", \"source\", \"target\", \"metadataPath\"]].itertuples(index=False):\n",
    "    relationship_list.append(create_meta_relationship(relationship, source, target, property_dir, filepath))\n",
    "    \n",
    "meta_relationships = pd.DataFrame(relationship_list)\n",
    "meta_relationships.drop_duplicates(inplace=True)\n",
    "meta_relationships.to_csv(os.path.join(NEO4J_IMPORT, \"MetaRelationship_r.csv\"), index=False)"
   ]
  },
  {
   "cell_type": "code",
   "execution_count": 44,
   "metadata": {},
   "outputs": [
    {
     "data": {
      "text/html": [
       "<div>\n",
       "<style scoped>\n",
       "    .dataframe tbody tr th:only-of-type {\n",
       "        vertical-align: middle;\n",
       "    }\n",
       "\n",
       "    .dataframe tbody tr th {\n",
       "        vertical-align: top;\n",
       "    }\n",
       "\n",
       "    .dataframe thead th {\n",
       "        text-align: right;\n",
       "    }\n",
       "</style>\n",
       "<table border=\"1\" class=\"dataframe\">\n",
       "  <thead>\n",
       "    <tr style=\"text-align: right;\">\n",
       "      <th></th>\n",
       "      <th>from</th>\n",
       "      <th>to</th>\n",
       "      <th>diagnosisDate</th>\n",
       "      <th>startDate</th>\n",
       "      <th>relationshipName</th>\n",
       "      <th>source:START_ID(MetaNode-ID)</th>\n",
       "      <th>target:END_ID(MetaNode-ID)</th>\n",
       "    </tr>\n",
       "  </thead>\n",
       "  <tbody>\n",
       "    <tr>\n",
       "      <th>0</th>\n",
       "      <td>Id of source node (string)</td>\n",
       "      <td>Id of target node (string)</td>\n",
       "      <td></td>\n",
       "      <td></td>\n",
       "      <td>LOCATED_IN</td>\n",
       "      <td>City</td>\n",
       "      <td>State</td>\n",
       "    </tr>\n",
       "    <tr>\n",
       "      <th>1</th>\n",
       "      <td>Id of source node (string)</td>\n",
       "      <td>Id of target node (string)</td>\n",
       "      <td>Date of diagnosis (date)</td>\n",
       "      <td></td>\n",
       "      <td>DIAGNOSED_WITH</td>\n",
       "      <td>Patient</td>\n",
       "      <td>Disease</td>\n",
       "    </tr>\n",
       "    <tr>\n",
       "      <th>3</th>\n",
       "      <td>Id of source node (string)</td>\n",
       "      <td>Id of target node (string)</td>\n",
       "      <td></td>\n",
       "      <td></td>\n",
       "      <td>LIVES_IN</td>\n",
       "      <td>Patient</td>\n",
       "      <td>City</td>\n",
       "    </tr>\n",
       "    <tr>\n",
       "      <th>4</th>\n",
       "      <td>Id of source node (string)</td>\n",
       "      <td>Id of target node (string)</td>\n",
       "      <td></td>\n",
       "      <td>Date when symptom started (date)</td>\n",
       "      <td>SHOWS</td>\n",
       "      <td>Patient</td>\n",
       "      <td>Symptom</td>\n",
       "    </tr>\n",
       "    <tr>\n",
       "      <th>5</th>\n",
       "      <td>Id of source node (string)</td>\n",
       "      <td>Id of target node (string)</td>\n",
       "      <td></td>\n",
       "      <td></td>\n",
       "      <td>PRESENTS</td>\n",
       "      <td>Disease</td>\n",
       "      <td>Symptom</td>\n",
       "    </tr>\n",
       "  </tbody>\n",
       "</table>\n",
       "</div>"
      ],
      "text/plain": [
       "                         from                          to  \\\n",
       "0  Id of source node (string)  Id of target node (string)   \n",
       "1  Id of source node (string)  Id of target node (string)   \n",
       "3  Id of source node (string)  Id of target node (string)   \n",
       "4  Id of source node (string)  Id of target node (string)   \n",
       "5  Id of source node (string)  Id of target node (string)   \n",
       "\n",
       "              diagnosisDate                         startDate  \\\n",
       "0                                                               \n",
       "1  Date of diagnosis (date)                                     \n",
       "3                                                               \n",
       "4                            Date when symptom started (date)   \n",
       "5                                                               \n",
       "\n",
       "  relationshipName source:START_ID(MetaNode-ID) target:END_ID(MetaNode-ID)  \n",
       "0       LOCATED_IN                         City                      State  \n",
       "1   DIAGNOSED_WITH                      Patient                    Disease  \n",
       "3         LIVES_IN                      Patient                       City  \n",
       "4            SHOWS                      Patient                    Symptom  \n",
       "5         PRESENTS                      Disease                    Symptom  "
      ]
     },
     "execution_count": 44,
     "metadata": {},
     "output_type": "execute_result"
    }
   ],
   "source": [
    "meta_relationships"
   ]
  },
  {
   "cell_type": "markdown",
   "metadata": {},
   "source": [
    "## Create Neo4j bulk upload command line arguments\n",
    "See: https://neo4j.com/docs/operations-manual/current/tools/neo4j-admin/neo4j-admin-import/"
   ]
  },
  {
   "cell_type": "code",
   "execution_count": 45,
   "metadata": {},
   "outputs": [],
   "source": [
    "args = \"\"\n",
    "for node in matched_nodes[\"node\"].unique():\n",
    "    #args += f\" --nodes={node}=header_{node}_n.csv,{node}*_n.csv\"\n",
    "    args += f\" --nodes={node}=header_{node}_n.csv,{node}.*_n.csv\""
   ]
  },
  {
   "cell_type": "code",
   "execution_count": 46,
   "metadata": {},
   "outputs": [],
   "source": [
    "args += \" --nodes=MetaNode=MetaNode_n.csv\""
   ]
  },
  {
   "cell_type": "code",
   "execution_count": 47,
   "metadata": {},
   "outputs": [],
   "source": [
    "rel_data = matched_relationships[[\"relationship\", \"fullRelationship\"]].copy()\n",
    "rel_data.drop_duplicates(inplace=True)\n",
    "for relationship, fullRelationship in rel_data.itertuples(index=False):\n",
    "    #args += f\" --relationships={relationship}=header_{fullRelationship}_r.csv,{fullRelationship}*_r.csv\"\n",
    "    args += f\" --relationships={relationship}=header_{fullRelationship}_r.csv,{fullRelationship}.*_r.csv\""
   ]
  },
  {
   "cell_type": "code",
   "execution_count": 48,
   "metadata": {},
   "outputs": [],
   "source": [
    "args += \" --relationships=MetaRelationship=MetaRelationship_r.csv\""
   ]
  },
  {
   "cell_type": "code",
   "execution_count": 49,
   "metadata": {},
   "outputs": [],
   "source": [
    "file = open(os.path.join(NEO4J_IMPORT, \"args.txt\"), \"w\")\n",
    "file.write(args)\n",
    "file.close() "
   ]
  },
  {
   "cell_type": "code",
   "execution_count": 50,
   "metadata": {},
   "outputs": [
    {
     "name": "stdout",
     "output_type": "stream",
     "text": [
      " --nodes=State=header_State_n.csv,State.*_n.csv --nodes=City=header_City_n.csv,City.*_n.csv --nodes=Symptom=header_Symptom_n.csv,Symptom.*_n.csv --nodes=Patient=header_Patient_n.csv,Patient.*_n.csv --nodes=Disease=header_Disease_n.csv,Disease.*_n.csv --nodes=MetaNode=MetaNode_n.csv --relationships=LOCATED_IN=header_City-LOCATED_IN-State_r.csv,City-LOCATED_IN-State.*_r.csv --relationships=DIAGNOSED_WITH=header_Patient-DIAGNOSED_WITH-Disease_r.csv,Patient-DIAGNOSED_WITH-Disease.*_r.csv --relationships=LIVES_IN=header_Patient-LIVES_IN-City_r.csv,Patient-LIVES_IN-City.*_r.csv --relationships=SHOWS=header_Patient-SHOWS-Symptom_r.csv,Patient-SHOWS-Symptom.*_r.csv --relationships=PRESENTS=header_Disease-PRESENTS-Symptom_r.csv,Disease-PRESENTS-Symptom.*_r.csv --relationships=MetaRelationship=MetaRelationship_r.csv\n"
     ]
    }
   ],
   "source": [
    "print(args)"
   ]
  },
  {
   "cell_type": "markdown",
   "metadata": {},
   "source": [
    "## Create a Cypher script with default Constraints, indices, and fulltext indices"
   ]
  },
  {
   "cell_type": "markdown",
   "metadata": {},
   "source": [
    "Create constraints for all node ids and indices and fulltext indices for all string properties"
   ]
  },
  {
   "cell_type": "code",
   "execution_count": 51,
   "metadata": {},
   "outputs": [],
   "source": [
    "indexed_nodes = matched_nodes[[\"node\", \"index\", \"stringProperties\"]].copy()"
   ]
  },
  {
   "cell_type": "code",
   "execution_count": 52,
   "metadata": {},
   "outputs": [],
   "source": [
    "indices = \"\".join(indexed_nodes[\"index\"].unique())"
   ]
  },
  {
   "cell_type": "markdown",
   "metadata": {},
   "source": [
    "Create fulltext index"
   ]
  },
  {
   "cell_type": "code",
   "execution_count": 53,
   "metadata": {},
   "outputs": [],
   "source": [
    "node_names = indexed_nodes[\"node\"].values\n",
    "node_names = list(set(node_names))\n",
    "node_names = \"|\".join(f\"{w}\" for w in node_names)"
   ]
  },
  {
   "cell_type": "code",
   "execution_count": 54,
   "metadata": {},
   "outputs": [],
   "source": [
    "property_names = indexed_nodes[\"stringProperties\"].values\n",
    "property_names = list(np.unique(np.concatenate(property_names).flat))\n",
    "property_names = \",n.\".join(f\"{w}\" for w in property_names)"
   ]
  },
  {
   "cell_type": "code",
   "execution_count": 55,
   "metadata": {},
   "outputs": [],
   "source": [
    "fulltext_index = f\"CREATE FULLTEXT INDEX fulltext FOR (n:{node_names}) ON EACH [n.{property_names}];\""
   ]
  },
  {
   "cell_type": "code",
   "execution_count": 56,
   "metadata": {},
   "outputs": [],
   "source": [
    "indices = indices + fulltext_index\n",
    "indices = indices.replace(\";\", \";\\n\")"
   ]
  },
  {
   "cell_type": "code",
   "execution_count": 57,
   "metadata": {},
   "outputs": [
    {
     "name": "stdout",
     "output_type": "stream",
     "text": [
      "CREATE CONSTRAINT State FOR (n:State) REQUIRE n.id IS UNIQUE;\n",
      "CREATE INDEX State_name FOR (n:State) ON (n.name);\n",
      "CREATE CONSTRAINT City FOR (n:City) REQUIRE n.id IS UNIQUE;\n",
      "CREATE INDEX City_name FOR (n:City) ON (n.name);\n",
      "CREATE CONSTRAINT Symptom FOR (n:Symptom) REQUIRE n.id IS UNIQUE;\n",
      "CREATE INDEX Symptom_name FOR (n:Symptom) ON (n.name);\n",
      "CREATE CONSTRAINT Patient FOR (n:Patient) REQUIRE n.id IS UNIQUE;\n",
      "CREATE INDEX Patient_firstName FOR (n:Patient) ON (n.firstName);\n",
      "CREATE INDEX Patient_lastName FOR (n:Patient) ON (n.lastName);\n",
      "CREATE INDEX Patient_sex FOR (n:Patient) ON (n.sex);\n",
      "CREATE CONSTRAINT Disease FOR (n:Disease) REQUIRE n.id IS UNIQUE;\n",
      "CREATE INDEX Disease_name FOR (n:Disease) ON (n.name);\n",
      "CREATE FULLTEXT INDEX fulltext FOR (n:City|Symptom|Disease|Patient|State) ON EACH [n.firstName,n.lastName,n.name,n.sex];\n",
      "\n"
     ]
    }
   ],
   "source": [
    "print(indices)"
   ]
  },
  {
   "cell_type": "code",
   "execution_count": 58,
   "metadata": {},
   "outputs": [],
   "source": [
    "with open(os.path.join(NEO4J_IMPORT, \"indices.cypher\"), \"w\") as f:\n",
    "    f.write(indices)"
   ]
  }
 ],
 "metadata": {
  "kernelspec": {
   "display_name": "Python 3 (ipykernel)",
   "language": "python",
   "name": "python3"
  },
  "language_info": {
   "codemirror_mode": {
    "name": "ipython",
    "version": 3
   },
   "file_extension": ".py",
   "mimetype": "text/x-python",
   "name": "python",
   "nbconvert_exporter": "python",
   "pygments_lexer": "ipython3",
   "version": "3.10.13"
  }
 },
 "nbformat": 4,
 "nbformat_minor": 4
}
